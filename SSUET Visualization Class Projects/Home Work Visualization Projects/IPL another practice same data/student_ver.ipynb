{
 "cells": [
  {
   "cell_type": "markdown",
   "metadata": {
    "_cell_guid": "329fc75c-0d9f-4739-a25b-0bb7b5125cb7",
    "_uuid": "1d408ddd07743d2884cf3d1a1443386801d0d464"
   },
   "source": [
    "# Lets Play Cricket  - IPL Exploration Analysis"
   ]
  },
  {
   "cell_type": "markdown",
   "metadata": {
    "_cell_guid": "fa74753c-b73c-7ec6-f11d-7440cf1b61e7",
    "_uuid": "96887e6c4aabbbc091adf1762cd90894a9248fc9"
   },
   "source": [
    "Anybody who is a cricket Fan should surely try to analyse this dataset as it would help you in learning with a fun factor. I have tried my best to keep this notebook as simple as possible so that even a beginner can understand it easily. At the same time I have made efforts to analyse the dataset in different aspects effectively. I will keep updating the notebook as and when I come up with new things. Hope you like it!!!\n",
    "\n",
    "The notebook contains:\n",
    " - Basic Analysis like Teams with maximum matches, wins,etc\n",
    " - Batsman Analysis\n",
    " - Bowler Analysis\n",
    " - 200+ scores analysis\n",
    "\n",
    "If you like the notebook, **Please Upvote** as it will keep me motivated in doing great things ahead. Thanks!!\n",
    "\n",
    "I have used the following packages for visualisations:\n",
    "\n",
    " 1. Matplotlib\n",
    " 2. Seaborn\n",
    " 3. Plotly\n",
    "\n",
    "Not all the visuals are interactive as Plotly is not useful everywhere. I have mentioned **INTERACTIVE** at places where the visuals are inteactive.\n",
    "\n",
    "Following is a **Tableau Dashboard**. DO have a look at it."
   ]
  },
  {
   "cell_type": "markdown",
   "metadata": {
    "_cell_guid": "95946204-9f12-45fe-b84b-a40e6138e642",
    "_uuid": "83bb50e549c59be8fa610cafe186e00f6a87bce7"
   },
   "source": [
    "## Tableau Dashboard"
   ]
  },
  {
   "cell_type": "code",
   "execution_count": null,
   "metadata": {
    "_cell_guid": "976772e5-340b-465e-a43d-1718c2d70159",
    "_kg_hide-input": true,
    "_uuid": "3b90661837016791cc2f15934218658d1b767266"
   },
   "outputs": [],
   "source": []
  },
  {
   "cell_type": "code",
   "execution_count": null,
   "metadata": {},
   "outputs": [],
   "source": []
  },
  {
   "cell_type": "code",
   "execution_count": 1,
   "metadata": {
    "_cell_guid": "f9eab5ae-3958-dab6-3a6e-86e16ea322d9",
    "_execution_state": "idle",
    "_uuid": "867eb569a8c6ea56b00f4102222535efd0f90f87"
   },
   "outputs": [
    {
     "data": {
      "text/html": [
       "<script>requirejs.config({paths: { 'plotly': ['https://cdn.plot.ly/plotly-latest.min']},});if(!window.Plotly) {{require(['plotly'],function(plotly) {window.Plotly=plotly;});}}</script>"
      ],
      "text/vnd.plotly.v1+html": [
       "<script>requirejs.config({paths: { 'plotly': ['https://cdn.plot.ly/plotly-latest.min']},});if(!window.Plotly) {{require(['plotly'],function(plotly) {window.Plotly=plotly;});}}</script>"
      ]
     },
     "metadata": {},
     "output_type": "display_data"
    }
   ],
   "source": [
    "# This Python 3 environment comes with many helpful analytics libraries installed\n",
    "# It is defined by the kaggle/python docker image: https://github.com/kaggle/docker-python\n",
    "# For example, here's several helpful packages to load in \n",
    "\n",
    "import numpy as np # linear algebra\n",
    "import pandas as pd # data processing, CSV file I/O (e.g. pd.read_csv)\n",
    "import matplotlib.pyplot as mlt\n",
    "import seaborn as sns\n",
    "mlt.style.use('fivethirtyeight')\n",
    "import plotly.offline as py\n",
    "py.init_notebook_mode(connected=True)\n",
    "import plotly.graph_objs as go\n",
    "import plotly.tools as tls\n",
    "# Input data files are available in the \"../input/\" directory.\n",
    "# For example, running this (by clicking run or pressing Shift+Enter) will list the files in the input directory\n",
    "\n"
   ]
  },
  {
   "cell_type": "code",
   "execution_count": 2,
   "metadata": {
    "_cell_guid": "923bd093-35ef-63a5-d60f-980fc8e6a3bc",
    "_execution_state": "idle",
    "_uuid": "9e6bfb9ea12e4ee79a2c393ce3e3d33a268baef0"
   },
   "outputs": [
    {
     "data": {
      "text/html": [
       "<div>\n",
       "<style scoped>\n",
       "    .dataframe tbody tr th:only-of-type {\n",
       "        vertical-align: middle;\n",
       "    }\n",
       "\n",
       "    .dataframe tbody tr th {\n",
       "        vertical-align: top;\n",
       "    }\n",
       "\n",
       "    .dataframe thead th {\n",
       "        text-align: right;\n",
       "    }\n",
       "</style>\n",
       "<table border=\"1\" class=\"dataframe\">\n",
       "  <thead>\n",
       "    <tr style=\"text-align: right;\">\n",
       "      <th></th>\n",
       "      <th>id</th>\n",
       "      <th>season</th>\n",
       "      <th>city</th>\n",
       "      <th>date</th>\n",
       "      <th>team1</th>\n",
       "      <th>team2</th>\n",
       "      <th>toss_winner</th>\n",
       "      <th>toss_decision</th>\n",
       "      <th>result</th>\n",
       "      <th>dl_applied</th>\n",
       "      <th>winner</th>\n",
       "      <th>win_by_runs</th>\n",
       "      <th>win_by_wickets</th>\n",
       "      <th>player_of_match</th>\n",
       "      <th>venue</th>\n",
       "      <th>umpire1</th>\n",
       "      <th>umpire2</th>\n",
       "      <th>umpire3</th>\n",
       "    </tr>\n",
       "  </thead>\n",
       "  <tbody>\n",
       "    <tr>\n",
       "      <td>0</td>\n",
       "      <td>1</td>\n",
       "      <td>2017</td>\n",
       "      <td>Hyderabad</td>\n",
       "      <td>2017-04-05</td>\n",
       "      <td>Sunrisers Hyderabad</td>\n",
       "      <td>Royal Challengers Bangalore</td>\n",
       "      <td>Royal Challengers Bangalore</td>\n",
       "      <td>field</td>\n",
       "      <td>normal</td>\n",
       "      <td>0</td>\n",
       "      <td>Sunrisers Hyderabad</td>\n",
       "      <td>35</td>\n",
       "      <td>0</td>\n",
       "      <td>Yuvraj Singh</td>\n",
       "      <td>Rajiv Gandhi International Stadium, Uppal</td>\n",
       "      <td>AY Dandekar</td>\n",
       "      <td>NJ Llong</td>\n",
       "      <td>NaN</td>\n",
       "    </tr>\n",
       "    <tr>\n",
       "      <td>1</td>\n",
       "      <td>2</td>\n",
       "      <td>2017</td>\n",
       "      <td>Pune</td>\n",
       "      <td>2017-04-06</td>\n",
       "      <td>Mumbai Indians</td>\n",
       "      <td>Rising Pune Supergiant</td>\n",
       "      <td>Rising Pune Supergiant</td>\n",
       "      <td>field</td>\n",
       "      <td>normal</td>\n",
       "      <td>0</td>\n",
       "      <td>Rising Pune Supergiant</td>\n",
       "      <td>0</td>\n",
       "      <td>7</td>\n",
       "      <td>SPD Smith</td>\n",
       "      <td>Maharashtra Cricket Association Stadium</td>\n",
       "      <td>A Nand Kishore</td>\n",
       "      <td>S Ravi</td>\n",
       "      <td>NaN</td>\n",
       "    </tr>\n",
       "  </tbody>\n",
       "</table>\n",
       "</div>"
      ],
      "text/plain": [
       "   id  season       city        date                team1  \\\n",
       "0   1    2017  Hyderabad  2017-04-05  Sunrisers Hyderabad   \n",
       "1   2    2017       Pune  2017-04-06       Mumbai Indians   \n",
       "\n",
       "                         team2                  toss_winner toss_decision  \\\n",
       "0  Royal Challengers Bangalore  Royal Challengers Bangalore         field   \n",
       "1       Rising Pune Supergiant       Rising Pune Supergiant         field   \n",
       "\n",
       "   result  dl_applied                  winner  win_by_runs  win_by_wickets  \\\n",
       "0  normal           0     Sunrisers Hyderabad           35               0   \n",
       "1  normal           0  Rising Pune Supergiant            0               7   \n",
       "\n",
       "  player_of_match                                      venue         umpire1  \\\n",
       "0    Yuvraj Singh  Rajiv Gandhi International Stadium, Uppal     AY Dandekar   \n",
       "1       SPD Smith    Maharashtra Cricket Association Stadium  A Nand Kishore   \n",
       "\n",
       "    umpire2  umpire3  \n",
       "0  NJ Llong      NaN  \n",
       "1    S Ravi      NaN  "
      ]
     },
     "execution_count": 2,
     "metadata": {},
     "output_type": "execute_result"
    }
   ],
   "source": [
    "matches=pd.read_csv('../IPL another practice same data/matches.csv')   \n",
    "delivery=pd.read_csv('../IPL another practice same data/deliveries.csv')\n",
    "matches.head(2)"
   ]
  },
  {
   "cell_type": "code",
   "execution_count": 3,
   "metadata": {
    "_cell_guid": "6afe57b5-f075-b1a6-5197-d3ca8ea1c758",
    "_execution_state": "idle",
    "_uuid": "e0797abf2e24e6ade6a126a9ceba4da610e1b522"
   },
   "outputs": [
    {
     "data": {
      "text/html": [
       "<div>\n",
       "<style scoped>\n",
       "    .dataframe tbody tr th:only-of-type {\n",
       "        vertical-align: middle;\n",
       "    }\n",
       "\n",
       "    .dataframe tbody tr th {\n",
       "        vertical-align: top;\n",
       "    }\n",
       "\n",
       "    .dataframe thead th {\n",
       "        text-align: right;\n",
       "    }\n",
       "</style>\n",
       "<table border=\"1\" class=\"dataframe\">\n",
       "  <thead>\n",
       "    <tr style=\"text-align: right;\">\n",
       "      <th></th>\n",
       "      <th>match_id</th>\n",
       "      <th>inning</th>\n",
       "      <th>batting_team</th>\n",
       "      <th>bowling_team</th>\n",
       "      <th>over</th>\n",
       "      <th>ball</th>\n",
       "      <th>batsman</th>\n",
       "      <th>non_striker</th>\n",
       "      <th>bowler</th>\n",
       "      <th>is_super_over</th>\n",
       "      <th>...</th>\n",
       "      <th>bye_runs</th>\n",
       "      <th>legbye_runs</th>\n",
       "      <th>noball_runs</th>\n",
       "      <th>penalty_runs</th>\n",
       "      <th>batsman_runs</th>\n",
       "      <th>extra_runs</th>\n",
       "      <th>total_runs</th>\n",
       "      <th>player_dismissed</th>\n",
       "      <th>dismissal_kind</th>\n",
       "      <th>fielder</th>\n",
       "    </tr>\n",
       "  </thead>\n",
       "  <tbody>\n",
       "    <tr>\n",
       "      <td>0</td>\n",
       "      <td>1</td>\n",
       "      <td>1</td>\n",
       "      <td>Sunrisers Hyderabad</td>\n",
       "      <td>Royal Challengers Bangalore</td>\n",
       "      <td>1</td>\n",
       "      <td>1</td>\n",
       "      <td>DA Warner</td>\n",
       "      <td>S Dhawan</td>\n",
       "      <td>TS Mills</td>\n",
       "      <td>0</td>\n",
       "      <td>...</td>\n",
       "      <td>0</td>\n",
       "      <td>0</td>\n",
       "      <td>0</td>\n",
       "      <td>0</td>\n",
       "      <td>0</td>\n",
       "      <td>0</td>\n",
       "      <td>0</td>\n",
       "      <td>NaN</td>\n",
       "      <td>NaN</td>\n",
       "      <td>NaN</td>\n",
       "    </tr>\n",
       "    <tr>\n",
       "      <td>1</td>\n",
       "      <td>1</td>\n",
       "      <td>1</td>\n",
       "      <td>Sunrisers Hyderabad</td>\n",
       "      <td>Royal Challengers Bangalore</td>\n",
       "      <td>1</td>\n",
       "      <td>2</td>\n",
       "      <td>DA Warner</td>\n",
       "      <td>S Dhawan</td>\n",
       "      <td>TS Mills</td>\n",
       "      <td>0</td>\n",
       "      <td>...</td>\n",
       "      <td>0</td>\n",
       "      <td>0</td>\n",
       "      <td>0</td>\n",
       "      <td>0</td>\n",
       "      <td>0</td>\n",
       "      <td>0</td>\n",
       "      <td>0</td>\n",
       "      <td>NaN</td>\n",
       "      <td>NaN</td>\n",
       "      <td>NaN</td>\n",
       "    </tr>\n",
       "  </tbody>\n",
       "</table>\n",
       "<p>2 rows × 21 columns</p>\n",
       "</div>"
      ],
      "text/plain": [
       "   match_id  inning         batting_team                 bowling_team  over  \\\n",
       "0         1       1  Sunrisers Hyderabad  Royal Challengers Bangalore     1   \n",
       "1         1       1  Sunrisers Hyderabad  Royal Challengers Bangalore     1   \n",
       "\n",
       "   ball    batsman non_striker    bowler  is_super_over  ...  bye_runs  \\\n",
       "0     1  DA Warner    S Dhawan  TS Mills              0  ...         0   \n",
       "1     2  DA Warner    S Dhawan  TS Mills              0  ...         0   \n",
       "\n",
       "   legbye_runs  noball_runs  penalty_runs  batsman_runs  extra_runs  \\\n",
       "0            0            0             0             0           0   \n",
       "1            0            0             0             0           0   \n",
       "\n",
       "   total_runs  player_dismissed dismissal_kind fielder  \n",
       "0           0               NaN            NaN     NaN  \n",
       "1           0               NaN            NaN     NaN  \n",
       "\n",
       "[2 rows x 21 columns]"
      ]
     },
     "execution_count": 3,
     "metadata": {},
     "output_type": "execute_result"
    }
   ],
   "source": [
    "delivery.head(2)"
   ]
  },
  {
   "cell_type": "markdown",
   "metadata": {
    "_cell_guid": "7a3109b5-64b4-657f-2c3b-b5582c2c8d4e",
    "_uuid": "2073dbc4e0ada4e25eb4839b33159c3990cd54a2"
   },
   "source": [
    "## Some Cleaning And Transformation"
   ]
  },
  {
   "cell_type": "code",
   "execution_count": 4,
   "metadata": {
    "_cell_guid": "98d8cba5-dd21-0eb1-fb0a-1d846c508448",
    "_execution_state": "idle",
    "_uuid": "9a7cc6e2b4313b4695da6b947705652d8457ee00"
   },
   "outputs": [],
   "source": [
    "matches.drop(['umpire3'],axis=1,inplace=True)  #since all the values are NaN\n",
    "delivery.fillna(0,inplace=True)     #filling all the NaN values with 0"
   ]
  },
  {
   "cell_type": "code",
   "execution_count": 5,
   "metadata": {
    "_cell_guid": "779dee58-ab7a-4c0f-b3ab-6154a6273250",
    "_uuid": "3b4832280e26ac6709021f823b880cbdb2fd71fb"
   },
   "outputs": [
    {
     "data": {
      "text/plain": [
       "array(['Sunrisers Hyderabad', 'Mumbai Indians', 'Gujarat Lions',\n",
       "       'Rising Pune Supergiant', 'Royal Challengers Bangalore',\n",
       "       'Kolkata Knight Riders', 'Delhi Daredevils', 'Kings XI Punjab',\n",
       "       'Chennai Super Kings', 'Rajasthan Royals', 'Deccan Chargers',\n",
       "       'Kochi Tuskers Kerala', 'Pune Warriors', 'Rising Pune Supergiants'],\n",
       "      dtype=object)"
      ]
     },
     "execution_count": 5,
     "metadata": {},
     "output_type": "execute_result"
    }
   ],
   "source": [
    "matches['team1'].unique()"
   ]
  },
  {
   "cell_type": "code",
   "execution_count": 6,
   "metadata": {
    "_cell_guid": "89a106c2-32f5-2432-f8ba-e8ef0d93eddf",
    "_execution_state": "idle",
    "_uuid": "dc410f319df82c9abbe69a56080ff24cb56f5fcc"
   },
   "outputs": [],
   "source": [
    "#Replacing the Team Names with their abbreviations\n",
    "\n",
    "matches.replace(['Mumbai Indians','Kolkata Knight Riders','Royal Challengers Bangalore','Deccan Chargers','Chennai Super Kings',\n",
    "                 'Rajasthan Royals','Delhi Daredevils','Gujarat Lions','Kings XI Punjab',\n",
    "                 'Sunrisers Hyderabad','Rising Pune Supergiants','Kochi Tuskers Kerala','Pune Warriors','Rising Pune Supergiant']\n",
    "                ,['MI','KKR','RCB','DC','CSK','RR','DD','GL','KXIP','SRH','RPS','KTK','PW','RPS'],inplace=True)\n",
    "\n",
    "delivery.replace(['Mumbai Indians','Kolkata Knight Riders','Royal Challengers Bangalore','Deccan Chargers','Chennai Super Kings',\n",
    "                 'Rajasthan Royals','Delhi Daredevils','Gujarat Lions','Kings XI Punjab',\n",
    "                 'Sunrisers Hyderabad','Rising Pune Supergiants','Kochi Tuskers Kerala','Pune Warriors','Rising Pune Supergiant']\n",
    "                ,['MI','KKR','RCB','DC','CSK','RR','DD','GL','KXIP','SRH','RPS','KTK','PW','RPS'],inplace=True)"
   ]
  },
  {
   "cell_type": "markdown",
   "metadata": {
    "_cell_guid": "281aa670-33f0-6403-22ad-57e252d8c939",
    "_uuid": "9600a75753cc5629e9fa6d2546e8db289d1fb667"
   },
   "source": [
    "## Some Basic Analysis"
   ]
  },
  {
   "cell_type": "code",
   "execution_count": 7,
   "metadata": {
    "_cell_guid": "cdaef786-1b3c-1609-de32-1f7a740036b3",
    "_execution_state": "idle",
    "_uuid": "2c5246adfd3cacf4d8024e714d7be38690e74de6"
   },
   "outputs": [
    {
     "name": "stdout",
     "output_type": "stream",
     "text": [
      "Total Matches Played: 636\n"
     ]
    }
   ],
   "source": [
    "print('Total Matches Played:',matches.shape[0])\n"
   ]
  },
  {
   "cell_type": "code",
   "execution_count": 8,
   "metadata": {},
   "outputs": [
    {
     "name": "stdout",
     "output_type": "stream",
     "text": [
      " \n",
      " Venues Played At: ['Hyderabad' 'Pune' 'Rajkot' 'Indore' 'Bangalore' 'Mumbai' 'Kolkata'\n",
      " 'Delhi' 'Chandigarh' 'Kanpur' 'Jaipur' 'Chennai' 'Cape Town'\n",
      " 'Port Elizabeth' 'Durban' 'Centurion' 'East London' 'Johannesburg'\n",
      " 'Kimberley' 'Bloemfontein' 'Ahmedabad' 'Cuttack' 'Nagpur' 'Dharamsala'\n",
      " 'Kochi' 'Visakhapatnam' 'Raipur' 'Ranchi' 'Abu Dhabi' 'Sharjah' nan]\n"
     ]
    }
   ],
   "source": [
    "print(' \\n Venues Played At:',matches['city'].unique())     \n"
   ]
  },
  {
   "cell_type": "code",
   "execution_count": 9,
   "metadata": {},
   "outputs": [
    {
     "name": "stdout",
     "output_type": "stream",
     "text": [
      " \n",
      " Teams : ['SRH' 'MI' 'GL' 'RPS' 'RCB' 'KKR' 'DD' 'KXIP' 'CSK' 'RR' 'DC' 'KTK' 'PW']\n"
     ]
    }
   ],
   "source": [
    "print(' \\n Teams :',matches['team1'].unique())"
   ]
  },
  {
   "cell_type": "code",
   "execution_count": 10,
   "metadata": {},
   "outputs": [
    {
     "name": "stdout",
     "output_type": "stream",
     "text": [
      "\n",
      "Total umpires  44\n"
     ]
    }
   ],
   "source": [
    "print('\\nTotal umpires ',matches['umpire1'].nunique())"
   ]
  },
  {
   "cell_type": "code",
   "execution_count": 11,
   "metadata": {
    "_cell_guid": "6f69e14b-8553-ee5a-0529-945191c73e0b",
    "_execution_state": "idle",
    "_uuid": "55b38a6c19ac21da84fc7a963f161ecb17b81c32"
   },
   "outputs": [
    {
     "name": "stdout",
     "output_type": "stream",
     "text": [
      "Total venues played at: 30\n"
     ]
    }
   ],
   "source": [
    "print('Total venues played at:',matches['city'].nunique())\n"
   ]
  },
  {
   "cell_type": "code",
   "execution_count": 12,
   "metadata": {},
   "outputs": [
    {
     "name": "stdout",
     "output_type": "stream",
     "text": [
      "CH Gayle  : has most man of the match awards\n"
     ]
    }
   ],
   "source": [
    "print((matches['player_of_match'].value_counts()).idxmax(),' : has most man of the match awards')"
   ]
  },
  {
   "cell_type": "code",
   "execution_count": 13,
   "metadata": {
    "_cell_guid": "b8730bf7-7538-6839-b47c-081ad4280fb1",
    "_execution_state": "idle",
    "_uuid": "997aa1ecbe666042cb6c1c51b59941f56502bbe0"
   },
   "outputs": [
    {
     "name": "stdout",
     "output_type": "stream",
     "text": [
      "MI : has the highest number of match wins\n"
     ]
    }
   ],
   "source": [
    "print(((matches['winner']).value_counts()).idxmax(),': has the highest number of match wins')"
   ]
  },
  {
   "cell_type": "code",
   "execution_count": 14,
   "metadata": {
    "_cell_guid": "7f8ea23e-bcc2-9c22-b8a5-afd21affe478",
    "_execution_state": "idle",
    "_uuid": "3a3875b84705213debd26ec1b3f00a8c7bd1e894"
   },
   "outputs": [
    {
     "data": {
      "text/html": [
       "<div>\n",
       "<style scoped>\n",
       "    .dataframe tbody tr th:only-of-type {\n",
       "        vertical-align: middle;\n",
       "    }\n",
       "\n",
       "    .dataframe tbody tr th {\n",
       "        vertical-align: top;\n",
       "    }\n",
       "\n",
       "    .dataframe thead th {\n",
       "        text-align: right;\n",
       "    }\n",
       "</style>\n",
       "<table border=\"1\" class=\"dataframe\">\n",
       "  <thead>\n",
       "    <tr style=\"text-align: right;\">\n",
       "      <th></th>\n",
       "      <th>season</th>\n",
       "      <th>team1</th>\n",
       "      <th>team2</th>\n",
       "      <th>winner</th>\n",
       "      <th>win_by_runs</th>\n",
       "    </tr>\n",
       "  </thead>\n",
       "  <tbody>\n",
       "    <tr>\n",
       "      <td>43</td>\n",
       "      <td>2017</td>\n",
       "      <td>MI</td>\n",
       "      <td>DD</td>\n",
       "      <td>MI</td>\n",
       "      <td>146</td>\n",
       "    </tr>\n",
       "  </tbody>\n",
       "</table>\n",
       "</div>"
      ],
      "text/plain": [
       "    season team1 team2 winner  win_by_runs\n",
       "43    2017    MI    DD     MI          146"
      ]
     },
     "execution_count": 14,
     "metadata": {},
     "output_type": "execute_result"
    }
   ],
   "source": [
    "df=matches.iloc[[matches['win_by_runs'].idxmax()]]\n",
    "df[['season','team1','team2','winner','win_by_runs']]"
   ]
  },
  {
   "cell_type": "markdown",
   "metadata": {
    "_cell_guid": "a1cd4535-70a5-d85c-d7b8-89a0ce25336b",
    "_uuid": "ec085108e02bbd43d4a9f12bae8f771382c7b4f2"
   },
   "source": [
    "Mumbai Indians(MI) defeated Delhi Daredevils(DD) with the highest run difference"
   ]
  },
  {
   "cell_type": "code",
   "execution_count": 15,
   "metadata": {
    "_cell_guid": "7627d019-f10b-c14c-2284-3227dba41144",
    "_execution_state": "idle",
    "_uuid": "cee147b0eb86a8e4ae8222890c85f620438ef8c7"
   },
   "outputs": [
    {
     "data": {
      "text/html": [
       "<div>\n",
       "<style scoped>\n",
       "    .dataframe tbody tr th:only-of-type {\n",
       "        vertical-align: middle;\n",
       "    }\n",
       "\n",
       "    .dataframe tbody tr th {\n",
       "        vertical-align: top;\n",
       "    }\n",
       "\n",
       "    .dataframe thead th {\n",
       "        text-align: right;\n",
       "    }\n",
       "</style>\n",
       "<table border=\"1\" class=\"dataframe\">\n",
       "  <thead>\n",
       "    <tr style=\"text-align: right;\">\n",
       "      <th></th>\n",
       "      <th>season</th>\n",
       "      <th>team1</th>\n",
       "      <th>team2</th>\n",
       "      <th>winner</th>\n",
       "      <th>win_by_wickets</th>\n",
       "    </tr>\n",
       "  </thead>\n",
       "  <tbody>\n",
       "    <tr>\n",
       "      <td>2</td>\n",
       "      <td>2017</td>\n",
       "      <td>GL</td>\n",
       "      <td>KKR</td>\n",
       "      <td>KKR</td>\n",
       "      <td>10</td>\n",
       "    </tr>\n",
       "  </tbody>\n",
       "</table>\n",
       "</div>"
      ],
      "text/plain": [
       "   season team1 team2 winner  win_by_wickets\n",
       "2    2017    GL   KKR    KKR              10"
      ]
     },
     "execution_count": 15,
     "metadata": {},
     "output_type": "execute_result"
    }
   ],
   "source": [
    "df=matches.iloc[[matches['win_by_wickets'].idxmax()]]\n",
    "df[['season','team1','team2','winner','win_by_wickets']]"
   ]
  },
  {
   "cell_type": "markdown",
   "metadata": {
    "_cell_guid": "54fcc902-f0d2-ad4e-18e0-9599bf9a87f4",
    "_uuid": "598d9df0e0b239e04d1bb643a02456e6a1d62bb8"
   },
   "source": [
    "Kolkata Knight Riders(KKR) defeated Gujrat Lions(GL) with the highest wins by wickets"
   ]
  },
  {
   "cell_type": "markdown",
   "metadata": {
    "_cell_guid": "8bd22340-6c9b-1e44-26a9-47763da81342",
    "_uuid": "695d21b80b0b51ec036da918f269eb6c2d35681e"
   },
   "source": [
    "## Toss Decisions"
   ]
  },
  {
   "cell_type": "code",
   "execution_count": 16,
   "metadata": {
    "_cell_guid": "28426aab-897d-be25-08a8-009cc3aa6585",
    "_execution_state": "idle",
    "_uuid": "4e55305ff6e1af3aa25dc6c644a716ccb88bfe0f"
   },
   "outputs": [
    {
     "name": "stdout",
     "output_type": "stream",
     "text": [
      "Toss Decisions in %\n",
      " field    62.911612\n",
      "bat      47.313692\n",
      "Name: toss_decision, dtype: float64\n"
     ]
    }
   ],
   "source": [
    "print('Toss Decisions in %\\n',((matches['toss_decision']).value_counts())/577*100)"
   ]
  },
  {
   "cell_type": "markdown",
   "metadata": {
    "_cell_guid": "720ce068-72b3-f0c0-b0d6-2a60c6b55f63",
    "_uuid": "1be885e97597a57c0416952cb4c4972bc3093db1"
   },
   "source": [
    "### Toss Decisions across Seasons"
   ]
  },
  {
   "cell_type": "code",
   "execution_count": 17,
   "metadata": {
    "_cell_guid": "1883324b-47d6-c11e-e8a3-945e4d0b22f7",
    "_execution_state": "idle",
    "_uuid": "18ec0edc7e9e18caa9634c2f4a72f7c66d2c0cf6"
   },
   "outputs": [
    {
     "data": {
      "image/png": "[encoded data removed]",
      "text/plain": [
       "<Figure size 720x432 with 1 Axes>"
      ]
     },
     "metadata": {
      "needs_background": "light"
     },
     "output_type": "display_data"
    }
   ],
   "source": [
    "mlt.subplots(figsize=(10,6))\n",
    "sns.countplot(x='season',hue='toss_decision',data=matches)\n",
    "mlt.show()"
   ]
  },
  {
   "cell_type": "markdown",
   "metadata": {
    "_cell_guid": "fdbfc0e2-b25b-2b5f-8075-c098c8958e49",
    "_uuid": "3e3d7dc236c7c6538a356817df83f4ec4c0380ef"
   },
   "source": [
    "The decision for batting or fielding varies largely across the seasons. In some seasons, the probablity that toss winners opt for batting is high, while it is not the case in other seasons. In 2016 though, the majority of toss winners opted for batting. "
   ]
  },
  {
   "cell_type": "markdown",
   "metadata": {
    "_cell_guid": "049ccca9-ee76-69c3-296b-00d3a6da3f2d",
    "_uuid": "e661e32ff7fce2f29a26eccba1554f6dedde0568"
   },
   "source": [
    "### Maximum Toss Winners"
   ]
  },
  {
   "cell_type": "code",
   "execution_count": 18,
   "metadata": {
    "_cell_guid": "ba5b3cc4-d985-3389-72a4-bac838153e59",
    "_execution_state": "idle",
    "_uuid": "721806aba5c904c84d56d9208827ee55c4f42c41"
   },
   "outputs": [
    {
     "data": {
      "image/png": "[encoded data removed]",
      "text/plain": [
       "<Figure size 432x288 with 1 Axes>"
      ]
     },
     "metadata": {
      "needs_background": "light"
     },
     "output_type": "display_data"
    }
   ],
   "source": [
    "#mlt.subplots(figsize=(10,6))\n",
    "ax=matches['toss_winner'].value_counts().plot.bar(width=0.9,color=sns.color_palette('RdYlGn'))\n",
    "for p in ax.patches:\n",
    "    ax.annotate(format(p.get_height()), (p.get_x()+0.15, p.get_height()+1))\n",
    "mlt.show()"
   ]
  },
  {
   "cell_type": "markdown",
   "metadata": {
    "_cell_guid": "7806e0bb-9de6-b9b3-7b35-f9a058f46ea0",
    "_uuid": "05570ea6405df5f90776cb10f1cd81aa5019f895"
   },
   "source": [
    "Mumbai Indians seem to be very lucky having the higest win in tosses follwed by Kolkata Knight Riders. Pune Supergiants have the lowest wins as they have played the lowest matches also. This does not show the higher chances of winning the toss as the number of matches played by each team is uneven."
   ]
  },
  {
   "cell_type": "markdown",
   "metadata": {
    "_cell_guid": "15f3f4c2-1c45-6f39-a0c4-ccbcc55184b5",
    "_uuid": "32351adf5ca1d8be9e9bbbb7acd22aafb6ac12c4"
   },
   "source": [
    "### Total Matches vs Wins for Teams (INTERACTIVE)"
   ]
  },
  {
   "cell_type": "code",
   "execution_count": null,
   "metadata": {
    "_cell_guid": "7fa8d493-5dc4-ce19-9ebe-9bf43505d00b",
    "_execution_state": "idle",
    "_uuid": "a28b7adc3aba91d87c7f090bd42ce0186d6f7173"
   },
   "outputs": [],
   "source": []
  },
  {
   "cell_type": "markdown",
   "metadata": {
    "_cell_guid": "c24a49d0-541b-807e-7b2b-94715d347c18",
    "_uuid": "44d1087295a28374a2f18209bed05c4b5319687c"
   },
   "source": [
    "### Is Toss Winner Also the Match Winner?"
   ]
  },
  {
   "cell_type": "code",
   "execution_count": 19,
   "metadata": {
    "_cell_guid": "0680c363-b932-a4f8-b0f7-960d7411c2fa",
    "_execution_state": "idle",
    "_uuid": "cb6479a3e56fca71d75f984192bc5e91a820239a"
   },
   "outputs": [
    {
     "data": {
      "image/png": "[encoded data removed]",
      "text/plain": [
       "<Figure size 432x432 with 1 Axes>"
      ]
     },
     "metadata": {},
     "output_type": "display_data"
    }
   ],
   "source": [
    "df=matches[matches['toss_winner']==matches['winner']]\n",
    "slices=[len(df),(577-len(df))]\n",
    "labels=['yes','no']\n",
    "mlt.pie(slices,labels=labels,startangle=90,shadow=True,explode=(0,0.05),autopct='%1.1f%%',colors=['r','g'])\n",
    "fig = mlt.gcf()\n",
    "fig.set_size_inches(6,6)\n",
    "mlt.show()"
   ]
  },
  {
   "cell_type": "markdown",
   "metadata": {
    "_cell_guid": "0becec06-ea01-d719-eb50-374e8ecb0f92",
    "_uuid": "9567fd97af0bcc90251e0a391e06892e7c87a3b7"
   },
   "source": [
    "Thus the toss winner is not necessarily the match winner. The match winning probablity for toss winnong team is about 50%-50%"
   ]
  },
  {
   "cell_type": "markdown",
   "metadata": {
    "_cell_guid": "c786681e-df39-497d-70fc-17b2ddd77540",
    "_uuid": "2011ada9d493032dc5719a7dc304724aeef7a067"
   },
   "source": [
    "##  Matches played across each season"
   ]
  },
  {
   "cell_type": "code",
   "execution_count": 20,
   "metadata": {
    "_cell_guid": "1ce186dc-0290-6f5c-11af-5a44d1f8bd0e",
    "_execution_state": "idle",
    "_uuid": "d04a12ca3aa70874c0d8f8e6b41f493566af8ac4"
   },
   "outputs": [
    {
     "data": {
      "image/png": "[encoded data removed]",
      "text/plain": [
       "<Figure size 720x432 with 1 Axes>"
      ]
     },
     "metadata": {
      "needs_background": "light"
     },
     "output_type": "display_data"
    }
   ],
   "source": [
    "mlt.subplots(figsize=(10,6))\n",
    "sns.countplot(x='season',data=matches,palette=sns.color_palette('winter'))  #countplot automatically counts the frequency of an item\n",
    "mlt.show()"
   ]
  },
  {
   "cell_type": "markdown",
   "metadata": {
    "_cell_guid": "97cb179d-3f41-ba1f-a65b-82b7830e2d81",
    "_uuid": "33d895f238a3a916d29c0c267281d7bbde22d8ee"
   },
   "source": [
    "### Runs Across the Seasons"
   ]
  },
  {
   "cell_type": "code",
   "execution_count": 21,
   "metadata": {
    "_uuid": "5376004dae37dd8ba9373dad3a5fd3703db38333"
   },
   "outputs": [
    {
     "data": {
      "text/html": [
       "<div>\n",
       "<style scoped>\n",
       "    .dataframe tbody tr th:only-of-type {\n",
       "        vertical-align: middle;\n",
       "    }\n",
       "\n",
       "    .dataframe tbody tr th {\n",
       "        vertical-align: top;\n",
       "    }\n",
       "\n",
       "    .dataframe thead th {\n",
       "        text-align: right;\n",
       "    }\n",
       "</style>\n",
       "<table border=\"1\" class=\"dataframe\">\n",
       "  <thead>\n",
       "    <tr style=\"text-align: right;\">\n",
       "      <th></th>\n",
       "      <th>id</th>\n",
       "      <th>season</th>\n",
       "      <th>match_id</th>\n",
       "      <th>inning</th>\n",
       "      <th>batting_team</th>\n",
       "      <th>bowling_team</th>\n",
       "      <th>over</th>\n",
       "      <th>ball</th>\n",
       "      <th>batsman</th>\n",
       "      <th>non_striker</th>\n",
       "      <th>...</th>\n",
       "      <th>bye_runs</th>\n",
       "      <th>legbye_runs</th>\n",
       "      <th>noball_runs</th>\n",
       "      <th>penalty_runs</th>\n",
       "      <th>batsman_runs</th>\n",
       "      <th>extra_runs</th>\n",
       "      <th>total_runs</th>\n",
       "      <th>player_dismissed</th>\n",
       "      <th>dismissal_kind</th>\n",
       "      <th>fielder</th>\n",
       "    </tr>\n",
       "  </thead>\n",
       "  <tbody>\n",
       "    <tr>\n",
       "      <td>0</td>\n",
       "      <td>1</td>\n",
       "      <td>2017</td>\n",
       "      <td>1</td>\n",
       "      <td>1</td>\n",
       "      <td>SRH</td>\n",
       "      <td>RCB</td>\n",
       "      <td>1</td>\n",
       "      <td>1</td>\n",
       "      <td>DA Warner</td>\n",
       "      <td>S Dhawan</td>\n",
       "      <td>...</td>\n",
       "      <td>0</td>\n",
       "      <td>0</td>\n",
       "      <td>0</td>\n",
       "      <td>0</td>\n",
       "      <td>0</td>\n",
       "      <td>0</td>\n",
       "      <td>0</td>\n",
       "      <td>0</td>\n",
       "      <td>0</td>\n",
       "      <td>0</td>\n",
       "    </tr>\n",
       "    <tr>\n",
       "      <td>1</td>\n",
       "      <td>1</td>\n",
       "      <td>2017</td>\n",
       "      <td>1</td>\n",
       "      <td>1</td>\n",
       "      <td>SRH</td>\n",
       "      <td>RCB</td>\n",
       "      <td>1</td>\n",
       "      <td>2</td>\n",
       "      <td>DA Warner</td>\n",
       "      <td>S Dhawan</td>\n",
       "      <td>...</td>\n",
       "      <td>0</td>\n",
       "      <td>0</td>\n",
       "      <td>0</td>\n",
       "      <td>0</td>\n",
       "      <td>0</td>\n",
       "      <td>0</td>\n",
       "      <td>0</td>\n",
       "      <td>0</td>\n",
       "      <td>0</td>\n",
       "      <td>0</td>\n",
       "    </tr>\n",
       "    <tr>\n",
       "      <td>2</td>\n",
       "      <td>1</td>\n",
       "      <td>2017</td>\n",
       "      <td>1</td>\n",
       "      <td>1</td>\n",
       "      <td>SRH</td>\n",
       "      <td>RCB</td>\n",
       "      <td>1</td>\n",
       "      <td>3</td>\n",
       "      <td>DA Warner</td>\n",
       "      <td>S Dhawan</td>\n",
       "      <td>...</td>\n",
       "      <td>0</td>\n",
       "      <td>0</td>\n",
       "      <td>0</td>\n",
       "      <td>0</td>\n",
       "      <td>4</td>\n",
       "      <td>0</td>\n",
       "      <td>4</td>\n",
       "      <td>0</td>\n",
       "      <td>0</td>\n",
       "      <td>0</td>\n",
       "    </tr>\n",
       "    <tr>\n",
       "      <td>3</td>\n",
       "      <td>1</td>\n",
       "      <td>2017</td>\n",
       "      <td>1</td>\n",
       "      <td>1</td>\n",
       "      <td>SRH</td>\n",
       "      <td>RCB</td>\n",
       "      <td>1</td>\n",
       "      <td>4</td>\n",
       "      <td>DA Warner</td>\n",
       "      <td>S Dhawan</td>\n",
       "      <td>...</td>\n",
       "      <td>0</td>\n",
       "      <td>0</td>\n",
       "      <td>0</td>\n",
       "      <td>0</td>\n",
       "      <td>0</td>\n",
       "      <td>0</td>\n",
       "      <td>0</td>\n",
       "      <td>0</td>\n",
       "      <td>0</td>\n",
       "      <td>0</td>\n",
       "    </tr>\n",
       "    <tr>\n",
       "      <td>4</td>\n",
       "      <td>1</td>\n",
       "      <td>2017</td>\n",
       "      <td>1</td>\n",
       "      <td>1</td>\n",
       "      <td>SRH</td>\n",
       "      <td>RCB</td>\n",
       "      <td>1</td>\n",
       "      <td>5</td>\n",
       "      <td>DA Warner</td>\n",
       "      <td>S Dhawan</td>\n",
       "      <td>...</td>\n",
       "      <td>0</td>\n",
       "      <td>0</td>\n",
       "      <td>0</td>\n",
       "      <td>0</td>\n",
       "      <td>0</td>\n",
       "      <td>2</td>\n",
       "      <td>2</td>\n",
       "      <td>0</td>\n",
       "      <td>0</td>\n",
       "      <td>0</td>\n",
       "    </tr>\n",
       "  </tbody>\n",
       "</table>\n",
       "<p>5 rows × 23 columns</p>\n",
       "</div>"
      ],
      "text/plain": [
       "   id  season  match_id  inning batting_team bowling_team  over  ball  \\\n",
       "0   1    2017         1       1          SRH          RCB     1     1   \n",
       "1   1    2017         1       1          SRH          RCB     1     2   \n",
       "2   1    2017         1       1          SRH          RCB     1     3   \n",
       "3   1    2017         1       1          SRH          RCB     1     4   \n",
       "4   1    2017         1       1          SRH          RCB     1     5   \n",
       "\n",
       "     batsman non_striker  ... bye_runs  legbye_runs  noball_runs  \\\n",
       "0  DA Warner    S Dhawan  ...        0            0            0   \n",
       "1  DA Warner    S Dhawan  ...        0            0            0   \n",
       "2  DA Warner    S Dhawan  ...        0            0            0   \n",
       "3  DA Warner    S Dhawan  ...        0            0            0   \n",
       "4  DA Warner    S Dhawan  ...        0            0            0   \n",
       "\n",
       "   penalty_runs  batsman_runs  extra_runs  total_runs  player_dismissed  \\\n",
       "0             0             0           0           0                 0   \n",
       "1             0             0           0           0                 0   \n",
       "2             0             4           0           4                 0   \n",
       "3             0             0           0           0                 0   \n",
       "4             0             0           2           2                 0   \n",
       "\n",
       "   dismissal_kind  fielder  \n",
       "0               0        0  \n",
       "1               0        0  \n",
       "2               0        0  \n",
       "3               0        0  \n",
       "4               0        0  \n",
       "\n",
       "[5 rows x 23 columns]"
      ]
     },
     "execution_count": 21,
     "metadata": {},
     "output_type": "execute_result"
    }
   ],
   "source": [
    "batsmen = matches[['id','season']].merge(delivery, left_on = 'id', right_on = 'match_id', how = 'left')\n",
    "#merging the matches and delivery dataframe by referencing the id and match_id columns respectively\n",
    "batsmen.head()"
   ]
  },
  {
   "cell_type": "markdown",
   "metadata": {
    "_cell_guid": "255b308f-af67-5f09-f6d7-99324a9ab0b4",
    "_uuid": "b58b14cfd1b47ebd118e839f7cbc7c47aead91bd"
   },
   "source": [
    "There was a decline in total runs from 2008 to 2009.But there after there was a substantial increase in runs in every season until 2013, but from next season there was a slump in the total runs. But the number of matches are not equal in all seasons. We should check the average runs per match in each season"
   ]
  },
  {
   "cell_type": "code",
   "execution_count": 22,
   "metadata": {},
   "outputs": [
    {
     "data": {
      "text/html": [
       "<div>\n",
       "<style scoped>\n",
       "    .dataframe tbody tr th:only-of-type {\n",
       "        vertical-align: middle;\n",
       "    }\n",
       "\n",
       "    .dataframe tbody tr th {\n",
       "        vertical-align: top;\n",
       "    }\n",
       "\n",
       "    .dataframe thead th {\n",
       "        text-align: right;\n",
       "    }\n",
       "</style>\n",
       "<table border=\"1\" class=\"dataframe\">\n",
       "  <thead>\n",
       "    <tr style=\"text-align: right;\">\n",
       "      <th></th>\n",
       "      <th>id</th>\n",
       "      <th>season</th>\n",
       "      <th>match_id</th>\n",
       "      <th>inning</th>\n",
       "      <th>batting_team</th>\n",
       "      <th>bowling_team</th>\n",
       "      <th>over</th>\n",
       "      <th>ball</th>\n",
       "      <th>batsman</th>\n",
       "      <th>non_striker</th>\n",
       "      <th>...</th>\n",
       "      <th>bye_runs</th>\n",
       "      <th>legbye_runs</th>\n",
       "      <th>noball_runs</th>\n",
       "      <th>penalty_runs</th>\n",
       "      <th>batsman_runs</th>\n",
       "      <th>extra_runs</th>\n",
       "      <th>total_runs</th>\n",
       "      <th>player_dismissed</th>\n",
       "      <th>dismissal_kind</th>\n",
       "      <th>fielder</th>\n",
       "    </tr>\n",
       "  </thead>\n",
       "  <tbody>\n",
       "    <tr>\n",
       "      <td>0</td>\n",
       "      <td>1</td>\n",
       "      <td>2017</td>\n",
       "      <td>1</td>\n",
       "      <td>1</td>\n",
       "      <td>SRH</td>\n",
       "      <td>RCB</td>\n",
       "      <td>1</td>\n",
       "      <td>1</td>\n",
       "      <td>DA Warner</td>\n",
       "      <td>S Dhawan</td>\n",
       "      <td>...</td>\n",
       "      <td>0</td>\n",
       "      <td>0</td>\n",
       "      <td>0</td>\n",
       "      <td>0</td>\n",
       "      <td>0</td>\n",
       "      <td>0</td>\n",
       "      <td>0</td>\n",
       "      <td>0</td>\n",
       "      <td>0</td>\n",
       "      <td>0</td>\n",
       "    </tr>\n",
       "    <tr>\n",
       "      <td>1</td>\n",
       "      <td>1</td>\n",
       "      <td>2017</td>\n",
       "      <td>1</td>\n",
       "      <td>1</td>\n",
       "      <td>SRH</td>\n",
       "      <td>RCB</td>\n",
       "      <td>1</td>\n",
       "      <td>2</td>\n",
       "      <td>DA Warner</td>\n",
       "      <td>S Dhawan</td>\n",
       "      <td>...</td>\n",
       "      <td>0</td>\n",
       "      <td>0</td>\n",
       "      <td>0</td>\n",
       "      <td>0</td>\n",
       "      <td>0</td>\n",
       "      <td>0</td>\n",
       "      <td>0</td>\n",
       "      <td>0</td>\n",
       "      <td>0</td>\n",
       "      <td>0</td>\n",
       "    </tr>\n",
       "    <tr>\n",
       "      <td>2</td>\n",
       "      <td>1</td>\n",
       "      <td>2017</td>\n",
       "      <td>1</td>\n",
       "      <td>1</td>\n",
       "      <td>SRH</td>\n",
       "      <td>RCB</td>\n",
       "      <td>1</td>\n",
       "      <td>3</td>\n",
       "      <td>DA Warner</td>\n",
       "      <td>S Dhawan</td>\n",
       "      <td>...</td>\n",
       "      <td>0</td>\n",
       "      <td>0</td>\n",
       "      <td>0</td>\n",
       "      <td>0</td>\n",
       "      <td>4</td>\n",
       "      <td>0</td>\n",
       "      <td>4</td>\n",
       "      <td>0</td>\n",
       "      <td>0</td>\n",
       "      <td>0</td>\n",
       "    </tr>\n",
       "    <tr>\n",
       "      <td>3</td>\n",
       "      <td>1</td>\n",
       "      <td>2017</td>\n",
       "      <td>1</td>\n",
       "      <td>1</td>\n",
       "      <td>SRH</td>\n",
       "      <td>RCB</td>\n",
       "      <td>1</td>\n",
       "      <td>4</td>\n",
       "      <td>DA Warner</td>\n",
       "      <td>S Dhawan</td>\n",
       "      <td>...</td>\n",
       "      <td>0</td>\n",
       "      <td>0</td>\n",
       "      <td>0</td>\n",
       "      <td>0</td>\n",
       "      <td>0</td>\n",
       "      <td>0</td>\n",
       "      <td>0</td>\n",
       "      <td>0</td>\n",
       "      <td>0</td>\n",
       "      <td>0</td>\n",
       "    </tr>\n",
       "    <tr>\n",
       "      <td>4</td>\n",
       "      <td>1</td>\n",
       "      <td>2017</td>\n",
       "      <td>1</td>\n",
       "      <td>1</td>\n",
       "      <td>SRH</td>\n",
       "      <td>RCB</td>\n",
       "      <td>1</td>\n",
       "      <td>5</td>\n",
       "      <td>DA Warner</td>\n",
       "      <td>S Dhawan</td>\n",
       "      <td>...</td>\n",
       "      <td>0</td>\n",
       "      <td>0</td>\n",
       "      <td>0</td>\n",
       "      <td>0</td>\n",
       "      <td>0</td>\n",
       "      <td>2</td>\n",
       "      <td>2</td>\n",
       "      <td>0</td>\n",
       "      <td>0</td>\n",
       "      <td>0</td>\n",
       "    </tr>\n",
       "  </tbody>\n",
       "</table>\n",
       "<p>5 rows × 23 columns</p>\n",
       "</div>"
      ],
      "text/plain": [
       "   id  season  match_id  inning batting_team bowling_team  over  ball  \\\n",
       "0   1    2017         1       1          SRH          RCB     1     1   \n",
       "1   1    2017         1       1          SRH          RCB     1     2   \n",
       "2   1    2017         1       1          SRH          RCB     1     3   \n",
       "3   1    2017         1       1          SRH          RCB     1     4   \n",
       "4   1    2017         1       1          SRH          RCB     1     5   \n",
       "\n",
       "     batsman non_striker  ... bye_runs  legbye_runs  noball_runs  \\\n",
       "0  DA Warner    S Dhawan  ...        0            0            0   \n",
       "1  DA Warner    S Dhawan  ...        0            0            0   \n",
       "2  DA Warner    S Dhawan  ...        0            0            0   \n",
       "3  DA Warner    S Dhawan  ...        0            0            0   \n",
       "4  DA Warner    S Dhawan  ...        0            0            0   \n",
       "\n",
       "   penalty_runs  batsman_runs  extra_runs  total_runs  player_dismissed  \\\n",
       "0             0             0           0           0                 0   \n",
       "1             0             0           0           0                 0   \n",
       "2             0             4           0           4                 0   \n",
       "3             0             0           0           0                 0   \n",
       "4             0             0           2           2                 0   \n",
       "\n",
       "   dismissal_kind  fielder  \n",
       "0               0        0  \n",
       "1               0        0  \n",
       "2               0        0  \n",
       "3               0        0  \n",
       "4               0        0  \n",
       "\n",
       "[5 rows x 23 columns]"
      ]
     },
     "execution_count": 22,
     "metadata": {},
     "output_type": "execute_result"
    }
   ],
   "source": [
    "batsmen.drop('id', axis = 1)\n",
    "batsmen.head()"
   ]
  },
  {
   "cell_type": "code",
   "execution_count": null,
   "metadata": {},
   "outputs": [],
   "source": []
  },
  {
   "cell_type": "markdown",
   "metadata": {
    "_cell_guid": "579d4be6-fffb-1f0f-4c4a-313fdb0c2618",
    "_uuid": "462e648e887ef64895d2e69c0b11abb9c553342a"
   },
   "source": [
    "### Average runs per match in each Season"
   ]
  },
  {
   "cell_type": "code",
   "execution_count": 21,
   "metadata": {
    "_uuid": "3004f965742881d45f1d1328dc842927898df7f5"
   },
   "outputs": [
    {
     "data": {
      "image/png": "[encoded data removed]",
      "text/plain": [
       "<Figure size 720x432 with 1 Axes>"
      ]
     },
     "metadata": {
      "needs_background": "light"
     },
     "output_type": "display_data"
    }
   ],
   "source": [
    "avgruns_each_season=matches.groupby(['season']).count().id.reset_index()\n",
    "avgruns_each_season.rename(columns={'id':'matches'},inplace=1)\n",
    "avgruns_each_season['total_runs']=season['total_runs']\n",
    "avgruns_each_season['average_runs_per_match']=avgruns_each_season['total_runs']/avgruns_each_season['matches']\n",
    "avgruns_each_season.set_index('season')['average_runs_per_match'].plot(marker='o')\n",
    "mlt.gcf().set_size_inches(10,6)\n",
    "mlt.title('Average Runs per match across Seasons')\n",
    "mlt.show()"
   ]
  },
  {
   "cell_type": "markdown",
   "metadata": {
    "_cell_guid": "9115dfc7-320e-5029-ba30-443ccc086bc6",
    "_uuid": "c104b239d588eb871bf4a1bbde504890e53bb144"
   },
   "source": [
    "### Sixes and Fours Across the Season"
   ]
  },
  {
   "cell_type": "code",
   "execution_count": null,
   "metadata": {
    "_cell_guid": "42af0d4a-d8d1-9d00-b310-ef762385130b",
    "_execution_state": "idle",
    "_uuid": "038233d1a656ee54c7b7c0acfcd8a72b84d82544"
   },
   "outputs": [],
   "source": []
  },
  {
   "cell_type": "markdown",
   "metadata": {
    "_cell_guid": "31f0779a-b5fc-5729-0de5-3e6b64eefe97",
    "_uuid": "804e006b1194843d1562fba9711acb87d095820f"
   },
   "source": [
    "### Runs Per Over By Teams Across Seasons"
   ]
  },
  {
   "cell_type": "code",
   "execution_count": null,
   "metadata": {
    "_cell_guid": "626fea17-b1a5-8e05-4983-2f2ed7a6aa90",
    "_execution_state": "idle",
    "_uuid": "c28c706856e75867d658ed3e535d06ab3196803a"
   },
   "outputs": [],
   "source": []
  },
  {
   "cell_type": "markdown",
   "metadata": {
    "_cell_guid": "851449bd-d502-4b00-3b76-8af2e5b2aa39",
    "_uuid": "210b5911f441d90843f83e9341206f78a5210b98"
   },
   "source": [
    "Maximum runs are being scored in the last 5 overs of the match. MI and RCB have shown a incresing trend in the runs scored throughout the match. "
   ]
  },
  {
   "cell_type": "markdown",
   "metadata": {
    "_cell_guid": "1c07c824-e4a6-3a19-633a-ceca19de9e1d",
    "_uuid": "4ba2fc666c225705e2e0521f9629dd5347767846"
   },
   "source": [
    "### Favorite Grounds"
   ]
  },
  {
   "cell_type": "code",
   "execution_count": 23,
   "metadata": {
    "_uuid": "735171a5692828838e5b0859b0f7d9c1454d0a60"
   },
   "outputs": [
    {
     "data": {
      "image/png": "[encoded data removed]",
      "text/plain": [
       "<Figure size 720x1080 with 1 Axes>"
      ]
     },
     "metadata": {
      "needs_background": "light"
     },
     "output_type": "display_data"
    }
   ],
   "source": [
    "mlt.subplots(figsize=(10,15))\n",
    "ax = matches['venue'].value_counts().sort_values(ascending=True).plot.barh(width=.9,color=sns.color_palette('inferno',40))\n",
    "ax.set_xlabel('Grounds')\n",
    "ax.set_ylabel('count')\n",
    "mlt.show()"
   ]
  },
  {
   "cell_type": "markdown",
   "metadata": {
    "_cell_guid": "17d6335a-e89d-ec0f-3c18-042d3f52bed9",
    "_uuid": "3105069b7f09de3e490892f3a65e273d1dbb2825"
   },
   "source": [
    "## Maximum Man Of Matches"
   ]
  },
  {
   "cell_type": "code",
   "execution_count": 24,
   "metadata": {
    "_cell_guid": "668aaa98-8bb5-d306-bd58-a114766cfe94",
    "_execution_state": "idle",
    "_uuid": "03c58c573aa63d550e13f6e7978684c8908b7282"
   },
   "outputs": [
    {
     "data": {
      "image/png": "[encoded data removed]",
      "text/plain": [
       "<Figure size 720x432 with 1 Axes>"
      ]
     },
     "metadata": {
      "needs_background": "light"
     },
     "output_type": "display_data"
    }
   ],
   "source": [
    "mlt.subplots(figsize=(10,6))\n",
    "#the code used is very basic but gets the job done easily\n",
    "ax = matches['player_of_match'].value_counts().head(10).plot.bar(width=.8, color=sns.color_palette('inferno',10))  #counts the values corresponding \n",
    "# to each batsman and then filters out the top 10 batsman and then plots a bargraph \n",
    "ax.set_xlabel('player_of_match') \n",
    "ax.set_ylabel('count')\n",
    "for p in ax.patches:\n",
    "    ax.annotate(format(p.get_height()), (p.get_x()+0.35, p.get_height()+0.55))\n",
    "mlt.show()"
   ]
  },
  {
   "cell_type": "markdown",
   "metadata": {
    "_cell_guid": "e9dfc319-1c58-0002-cea7-6a33640f04f7",
    "_uuid": "5997b0bff2a15c11f2c8d8619c057b1fa3510738"
   },
   "source": [
    "## Winners by Year"
   ]
  },
  {
   "cell_type": "code",
   "execution_count": 25,
   "metadata": {
    "_cell_guid": "506442fe-9f65-6bfc-0ac5-f20d2c3e9af7",
    "_execution_state": "idle",
    "_uuid": "0a30caa5910597987ed069490cdb285aae8b673f"
   },
   "outputs": [
    {
     "name": "stdout",
     "output_type": "stream",
     "text": [
      "Winners By Years\n",
      "[2008 'RR']\n",
      "[2009 'DC']\n",
      "[2010 'CSK']\n",
      "[2011 'CSK']\n",
      "[2012 'KKR']\n",
      "[2013 'MI']\n",
      "[2014 'KKR']\n",
      "[2015 'MI']\n",
      "[2016 'SRH']\n"
     ]
    }
   ],
   "source": [
    "print('Winners By Years')\n",
    "for i in range(2008,2017):\n",
    "    df=((matches[matches['season']==i]).iloc[-1]) \n",
    "    print(df[[1,10]].values)\n",
    "#getting the last match in every season since the last match will be the final match for the season"
   ]
  },
  {
   "cell_type": "markdown",
   "metadata": {
    "_cell_guid": "7791c6c6-52e8-1272-c95d-5f84c3b774d4",
    "_uuid": "98504d25ca5e803e3857380b381cfd91315bc8a0"
   },
   "source": [
    "### Super Over!"
   ]
  },
  {
   "cell_type": "code",
   "execution_count": 26,
   "metadata": {
    "_cell_guid": "e46410c1-cfd4-53a6-ca9b-683d4eaf5467",
    "_execution_state": "idle",
    "_uuid": "6dea593052bc4a47654d4e38136840db605c73d3"
   },
   "outputs": [
    {
     "name": "stdout",
     "output_type": "stream",
     "text": [
      "\n",
      " Total Matches with Super Overs: 7\n"
     ]
    }
   ],
   "source": [
    "print('\\n Total Matches with Super Overs:',delivery[delivery['is_super_over']==1].match_id.nunique())"
   ]
  },
  {
   "cell_type": "code",
   "execution_count": 27,
   "metadata": {
    "_cell_guid": "cff06a3b-f8d5-b5ee-f77a-31e4b1a30c2b",
    "_execution_state": "idle",
    "_uuid": "2ebaf8c3a77e2eea73bbfff0a16accd4df7b821a"
   },
   "outputs": [
    {
     "name": "stdout",
     "output_type": "stream",
     "text": [
      "Teams who haven\"t ever played a super over are: ['PW', 'KTK', 'RPS', 'DC']\n"
     ]
    }
   ],
   "source": [
    "teams=['MI','KKR','RCB','DC','CSK','RR','DD','GL','KXIP','SRH','RPS','KTK','PW']\n",
    "play=delivery[delivery['is_super_over']==1].batting_team.unique()\n",
    "play=list(play)\n",
    "print('Teams who haven\"t ever played a super over are:' ,list(set(teams)-set(play)))"
   ]
  },
  {
   "cell_type": "markdown",
   "metadata": {
    "_cell_guid": "621e8e75-deba-50d4-05f1-f41f076e40ce",
    "_uuid": "e97ecc918b789242d9671317e54dfa6edfe2c3c7"
   },
   "source": [
    "### Favorite Umpires"
   ]
  },
  {
   "cell_type": "code",
   "execution_count": 28,
   "metadata": {
    "_cell_guid": "fed77ff6-e116-baee-3ebd-d1c6abfb2e69",
    "_execution_state": "idle",
    "_uuid": "551a3cce101d1ef1d0b4f366e93bb76c865ab9a1"
   },
   "outputs": [
    {
     "data": {
      "image/png": "[encoded data removed]",
      "text/plain": [
       "<Figure size 720x432 with 1 Axes>"
      ]
     },
     "metadata": {
      "needs_background": "light"
     },
     "output_type": "display_data"
    }
   ],
   "source": [
    "mlt.subplots(figsize=(10,6))\n",
    "ump=pd.concat([matches['umpire1'],matches['umpire2']]) \n",
    "ax=ump.value_counts().head(10).plot.bar(width=0.8,color=sns.color_palette('summer',10))\n",
    "for p in ax.patches:\n",
    "    ax.annotate(format(p.get_height()), (p.get_x()+0.15, p.get_height()+0.25))\n",
    "mlt.show()"
   ]
  },
  {
   "cell_type": "markdown",
   "metadata": {
    "_cell_guid": "67557c22-b78b-8600-acc1-8afc1ebac9a9",
    "_uuid": "45908bc26439b9a40ba245b4865c318a1ac97f1e"
   },
   "source": [
    "## Team1 vs Team2\n",
    "\n",
    "Here we will check the matches played between 2 teams and which had won more matches each year"
   ]
  },
  {
   "cell_type": "markdown",
   "metadata": {
    "_cell_guid": "bd25c3a4-c75c-f075-05d2-bcc6549a4556",
    "_uuid": "8164ae6ab5a1a8a6ffba2d26fafd65836c11f418"
   },
   "source": [
    "### MI vs KKR"
   ]
  },
  {
   "cell_type": "code",
   "execution_count": 29,
   "metadata": {
    "_cell_guid": "8120da9f-59f1-faf6-049d-a38d89a9c23d",
    "_execution_state": "idle",
    "_uuid": "f9f6249e9d8d8af4142c7f21767070540ca531a5"
   },
   "outputs": [
    {
     "data": {
      "image/png": "[encoded data removed]",
      "text/plain": [
       "<Figure size 720x432 with 1 Axes>"
      ]
     },
     "metadata": {
      "needs_background": "light"
     },
     "output_type": "display_data"
    }
   ],
   "source": [
    "def team1_vs_team2(team1,team2):\n",
    "    mt1=matches[((matches['team1']==team1)|(matches['team2']==team1))&((matches['team1']==team2)|(matches['team2']==team2))]\n",
    "    sns.countplot(x='season', hue='winner',data=mt1,palette='Set3')\n",
    "    mlt.xticks(rotation='vertical')\n",
    "    leg = mlt.legend( loc = 'upper center')\n",
    "    fig=mlt.gcf()\n",
    "    fig.set_size_inches(10,6)\n",
    "    mlt.show()\n",
    "team1_vs_team2('KKR','MI')\n"
   ]
  },
  {
   "cell_type": "markdown",
   "metadata": {
    "_cell_guid": "52799bbc-be9a-a40a-5946-7b3aa99fa539",
    "_uuid": "070c0a1daeac1f0345f0f429352fd80889c9b009"
   },
   "source": [
    "MI have defeated KKR in 13 out of 18 matches played between them.Only in the year 2014, KKR won both the matches.Thus in a MI vs KKR match, we know on whom should we bet upon. Similar comparisions can be done between any two teams, we just need to change the team names. \n",
    "\n",
    "One thing to notice is that MI and KKR have never played against each other in any qualifiers or finals as both of them have played only 2 matches every year, those being the group stage matches."
   ]
  },
  {
   "cell_type": "markdown",
   "metadata": {
    "_cell_guid": "994bd010-8229-bd73-3188-52a9b20dc5db",
    "_uuid": "551419e2599a0efa8ef664d875c6c54ef5c59f08"
   },
   "source": [
    "### MI vs CSK"
   ]
  },
  {
   "cell_type": "code",
   "execution_count": 30,
   "metadata": {
    "_cell_guid": "229f1d20-22cb-4e78-96b6-b3fb2de387e9",
    "_execution_state": "idle",
    "_uuid": "ee494b7b4cef84e89fa3aff88059559ede92159f"
   },
   "outputs": [
    {
     "data": {
      "image/png": "[encoded data removed]",
      "text/plain": [
       "<Figure size 720x432 with 1 Axes>"
      ]
     },
     "metadata": {
      "needs_background": "light"
     },
     "output_type": "display_data"
    }
   ],
   "source": [
    "team1_vs_team2('CSK','MI')"
   ]
  },
  {
   "cell_type": "markdown",
   "metadata": {
    "_cell_guid": "ef98c7eb-787f-26bd-90df-81a1a00f8ec5",
    "_uuid": "7808c1443f0f8ad2f4d33eae87029988c6ab8c88"
   },
   "source": [
    "Here se can see that MI and CSK have played against each other in more than 2 matches in some seasons i.e they have played qualifiers too."
   ]
  },
  {
   "cell_type": "markdown",
   "metadata": {
    "_cell_guid": "457b0ce1-d065-40ef-9b5e-a3c5066aa4db",
    "_execution_state": "idle",
    "_uuid": "9d029d9a931a0227724c2d6bd32a4caf1264b1fb"
   },
   "source": [
    "## Matches Won By A Team Against Other Teams"
   ]
  },
  {
   "cell_type": "markdown",
   "metadata": {
    "_cell_guid": "4ba82e06-793e-41a1-a9df-5f9b2731c3ce",
    "_execution_state": "idle",
    "_uuid": "f0b2c5597a7f9ad9d18389c26188f2b9a1b6fe86"
   },
   "source": [
    "Now we will be checking the number of times a Team has won against other teams. This will give us an idea as which team has an upper hand over the others when they play head-to-head."
   ]
  },
  {
   "cell_type": "code",
   "execution_count": null,
   "metadata": {
    "_cell_guid": "07f8a7d2-d040-436f-8682-a3fc8bfd144c",
    "_execution_state": "idle",
    "_uuid": "4b2f7efc66465c793d13d48acaac42a8f0a88197"
   },
   "outputs": [],
   "source": []
  },
  {
   "cell_type": "markdown",
   "metadata": {
    "_cell_guid": "982f37cd-2565-701d-bb7a-9513805d134e",
    "_uuid": "d2bb88b3d21906e7aa5d954c10ad34296b3ebef7"
   },
   "source": [
    "### Score Distribution For Teams by Innings"
   ]
  },
  {
   "cell_type": "code",
   "execution_count": null,
   "metadata": {
    "_cell_guid": "8eb586fa-1f0d-56a9-9bb4-bdf57a47ba9c",
    "_execution_state": "idle",
    "_uuid": "a55ceb37ac78074004c783c1839bbec5670fdd04"
   },
   "outputs": [],
   "source": []
  },
  {
   "cell_type": "markdown",
   "metadata": {
    "_cell_guid": "250c8307-ab26-5efa-7ac1-9438d15313bb",
    "_uuid": "337edcf45c395033886ca15d31fb56debfed91d5"
   },
   "source": [
    "According to Graph 1 the batting by CSK in innings 1 looks to be the best.  Graph 2 also conveys the same story.\n",
    "\n",
    "In Graph 2 we see a point near 0 which may seem to be outlier. But it is so because the match was disrupted. "
   ]
  },
  {
   "cell_type": "markdown",
   "metadata": {
    "_cell_guid": "ff111018-dae3-56ca-2762-f874099c9950",
    "_uuid": "4b8f81fe7e22599be72e7e610436eb5c88c9ad3e"
   },
   "source": [
    "## 200+ Scores"
   ]
  },
  {
   "cell_type": "code",
   "execution_count": 31,
   "metadata": {
    "_cell_guid": "4eaed9c6-e92d-e977-9c7b-087ad92bb9d9",
    "_execution_state": "idle",
    "_uuid": "bbc9d3a6a3d89f4882d55c5d0fe312d85285aab7"
   },
   "outputs": [
    {
     "data": {
      "text/html": [
       "<div>\n",
       "<style scoped>\n",
       "    .dataframe tbody tr th:only-of-type {\n",
       "        vertical-align: middle;\n",
       "    }\n",
       "\n",
       "    .dataframe tbody tr th {\n",
       "        vertical-align: top;\n",
       "    }\n",
       "\n",
       "    .dataframe thead th {\n",
       "        text-align: right;\n",
       "    }\n",
       "</style>\n",
       "<table border=\"1\" class=\"dataframe\">\n",
       "  <thead>\n",
       "    <tr style=\"text-align: right;\">\n",
       "      <th></th>\n",
       "      <th>match_id</th>\n",
       "      <th>inning</th>\n",
       "      <th>batting_team</th>\n",
       "      <th>bowling_team</th>\n",
       "      <th>total_runs</th>\n",
       "    </tr>\n",
       "  </thead>\n",
       "  <tbody>\n",
       "    <tr>\n",
       "      <td>829</td>\n",
       "      <td>411</td>\n",
       "      <td>1</td>\n",
       "      <td>RCB</td>\n",
       "      <td>PW</td>\n",
       "      <td>263</td>\n",
       "    </tr>\n",
       "    <tr>\n",
       "      <td>1370</td>\n",
       "      <td>7937</td>\n",
       "      <td>1</td>\n",
       "      <td>KKR</td>\n",
       "      <td>KXIP</td>\n",
       "      <td>250</td>\n",
       "    </tr>\n",
       "    <tr>\n",
       "      <td>1250</td>\n",
       "      <td>620</td>\n",
       "      <td>1</td>\n",
       "      <td>RCB</td>\n",
       "      <td>GL</td>\n",
       "      <td>248</td>\n",
       "    </tr>\n",
       "    <tr>\n",
       "      <td>416</td>\n",
       "      <td>206</td>\n",
       "      <td>1</td>\n",
       "      <td>CSK</td>\n",
       "      <td>RR</td>\n",
       "      <td>246</td>\n",
       "    </tr>\n",
       "    <tr>\n",
       "      <td>1498</td>\n",
       "      <td>11338</td>\n",
       "      <td>1</td>\n",
       "      <td>KKR</td>\n",
       "      <td>MI</td>\n",
       "      <td>241</td>\n",
       "    </tr>\n",
       "    <tr>\n",
       "      <td>122</td>\n",
       "      <td>61</td>\n",
       "      <td>1</td>\n",
       "      <td>CSK</td>\n",
       "      <td>KXIP</td>\n",
       "      <td>240</td>\n",
       "    </tr>\n",
       "    <tr>\n",
       "      <td>1134</td>\n",
       "      <td>562</td>\n",
       "      <td>1</td>\n",
       "      <td>RCB</td>\n",
       "      <td>MI</td>\n",
       "      <td>235</td>\n",
       "    </tr>\n",
       "    <tr>\n",
       "      <td>1426</td>\n",
       "      <td>11147</td>\n",
       "      <td>1</td>\n",
       "      <td>SRH</td>\n",
       "      <td>RCB</td>\n",
       "      <td>233</td>\n",
       "    </tr>\n",
       "    <tr>\n",
       "      <td>596</td>\n",
       "      <td>296</td>\n",
       "      <td>1</td>\n",
       "      <td>KXIP</td>\n",
       "      <td>RCB</td>\n",
       "      <td>232</td>\n",
       "    </tr>\n",
       "    <tr>\n",
       "      <td>1500</td>\n",
       "      <td>11339</td>\n",
       "      <td>1</td>\n",
       "      <td>SRH</td>\n",
       "      <td>KXIP</td>\n",
       "      <td>232</td>\n",
       "    </tr>\n",
       "  </tbody>\n",
       "</table>\n",
       "</div>"
      ],
      "text/plain": [
       "      match_id  inning batting_team bowling_team  total_runs\n",
       "829        411       1          RCB           PW         263\n",
       "1370      7937       1          KKR         KXIP         250\n",
       "1250       620       1          RCB           GL         248\n",
       "416        206       1          CSK           RR         246\n",
       "1498     11338       1          KKR           MI         241\n",
       "122         61       1          CSK         KXIP         240\n",
       "1134       562       1          RCB           MI         235\n",
       "1426     11147       1          SRH          RCB         233\n",
       "596        296       1         KXIP          RCB         232\n",
       "1500     11339       1          SRH         KXIP         232"
      ]
     },
     "execution_count": 31,
     "metadata": {},
     "output_type": "execute_result"
    }
   ],
   "source": [
    "high_scores=delivery.groupby(['match_id', 'inning','batting_team','bowling_team'])['total_runs'].sum().reset_index() \n",
    "#reset_index() converts the obtained series into a dataframe\n",
    "high_scores=high_scores[high_scores['total_runs']>=200]\n",
    "#nlargest is used to sort the given column\n",
    "high_scores.nlargest(10,'total_runs')"
   ]
  },
  {
   "cell_type": "code",
   "execution_count": 32,
   "metadata": {
    "_cell_guid": "0b3dbbd5-c81f-d7e1-9b2e-9a3188a9c642",
    "_execution_state": "idle",
    "_uuid": "50a87ce9de058377f77dfc4434c4a077d44b5111"
   },
   "outputs": [
    {
     "data": {
      "image/png": "[encoded data removed]",
      "text/plain": [
       "<Figure size 1296x432 with 2 Axes>"
      ]
     },
     "metadata": {
      "needs_background": "light"
     },
     "output_type": "display_data"
    }
   ],
   "source": [
    "fig, ax =mlt.subplots(1,2)\n",
    "sns.countplot(high_scores['batting_team'],ax=ax[0])\n",
    "sns.countplot(high_scores['bowling_team'],ax=ax[1])\n",
    "mlt.xticks(rotation=90)\n",
    "fig=mlt.gcf()\n",
    "fig.set_size_inches(18,6)\n",
    "mlt.show()"
   ]
  },
  {
   "cell_type": "markdown",
   "metadata": {
    "_cell_guid": "0c30d1fe-2dae-d3a8-0a81-72b06f6fa4d9",
    "_uuid": "a09941f4556414941e97bcf3cc94c36589ca106f"
   },
   "source": [
    "The graph on the left shows the number of times a team has scored above 200 runs. The graph on the right shows the number of times a bowling team has conceeded above 200 runs. "
   ]
  },
  {
   "cell_type": "code",
   "execution_count": null,
   "metadata": {
    "_cell_guid": "91413329-2b92-7a81-835f-be2db69fdeac",
    "_execution_state": "idle",
    "_uuid": "124c814fa4f5b1fe3c6d7b3e971030af24b1b2ae"
   },
   "outputs": [],
   "source": []
  },
  {
   "cell_type": "code",
   "execution_count": null,
   "metadata": {
    "_cell_guid": "baf2cbd7-3ce6-10ad-a10f-e5c2c44575f4",
    "_execution_state": "idle",
    "_uuid": "ec576c17e3b2839274da79a9c3502601eb496ccf"
   },
   "outputs": [],
   "source": []
  },
  {
   "cell_type": "markdown",
   "metadata": {
    "_cell_guid": "762d001c-1cd3-f22a-f0e5-ad242fc7f435",
    "_uuid": "8635fdb1869359b2fa30dd446851f04ad649125f"
   },
   "source": [
    "The above dataframe shows the number of times a team has scored above 200 runs against another team. Clearly MI has scored 200+ againt DD 3 times and similarly RCB has scored 200+ againt KXIP 3 times. Also the number of 200+ runs are higher in the 1st innings."
   ]
  },
  {
   "cell_type": "code",
   "execution_count": null,
   "metadata": {
    "_cell_guid": "390603a6-ccca-1417-9cad-0999a9bbea8f",
    "_execution_state": "idle",
    "_uuid": "442f8f099520bd056fd7c61181cb128a09e34a3b"
   },
   "outputs": [],
   "source": []
  },
  {
   "cell_type": "markdown",
   "metadata": {
    "_cell_guid": "54db8fe5-2a9d-4954-5358-c17fafaae79f",
    "_uuid": "b4e47a66daef3d2090ef9621942ab5be12d67a08"
   },
   "source": [
    "### Chances of chasing 200+ target"
   ]
  },
  {
   "cell_type": "code",
   "execution_count": null,
   "metadata": {
    "_cell_guid": "14f4ae72-3e21-7847-996f-ddb6094e3054",
    "_execution_state": "idle",
    "_uuid": "d4ba47f0f57e485a23cd22bed9cd29d1df3d4f53"
   },
   "outputs": [],
   "source": []
  },
  {
   "cell_type": "markdown",
   "metadata": {
    "_cell_guid": "58e0723e-5860-a2f6-5d08-ab1c391b5b1c",
    "_uuid": "129709372dee18042c5721e9a9ad50acd3aa57db"
   },
   "source": [
    "It seems to be clear that team batting first and scoring 200+ runs, has a very high probablity of winning the match."
   ]
  },
  {
   "cell_type": "markdown",
   "metadata": {
    "_cell_guid": "4492ae4e-c623-45b3-ac15-ce00158c233d",
    "_execution_state": "idle",
    "_uuid": "14ab48073dc3fcac319d53dbb51207b7e3f3a25a"
   },
   "source": [
    "## Batsman Comparator"
   ]
  },
  {
   "cell_type": "markdown",
   "metadata": {
    "_cell_guid": "6b6a16f4-48b1-4fa4-921b-e3d1899d6252",
    "_execution_state": "idle",
    "_uuid": "8291caa79e77fb70935487608119b5386a435f61"
   },
   "source": [
    "I have created a function that compares 2 batsman based on their respective stats like runs or strike rate etc. First lets create a dataframe from where we will be taking all that values for comparison."
   ]
  },
  {
   "cell_type": "code",
   "execution_count": null,
   "metadata": {
    "_uuid": "5587ae441b65447586d664656082e9304cdd0199"
   },
   "outputs": [],
   "source": []
  },
  {
   "cell_type": "markdown",
   "metadata": {
    "_cell_guid": "068bbfb4-d2cf-4b14-9f7b-a8f85c8b7a0e",
    "_execution_state": "idle",
    "_uuid": "7c493eb23c242f896e622e443f8f7a833dec6622"
   },
   "source": [
    "Now using this dataframe, we can compare stats like the strike rate, or the number of 6's for 4's etc. We will be passing the names of 2 batsmen and two comparing measures for the comparision."
   ]
  },
  {
   "cell_type": "code",
   "execution_count": null,
   "metadata": {
    "_uuid": "c83b918bd740f2d67374419ebde44c64bcaa86d7"
   },
   "outputs": [],
   "source": []
  },
  {
   "cell_type": "markdown",
   "metadata": {
    "_cell_guid": "64ce192b-e524-4afb-a06a-02e04507aabd",
    "_execution_state": "idle",
    "_uuid": "6e0f008771f4e6d24cad6b59759e3be73a8dfe0b"
   },
   "source": [
    "### Dhoni Vs Kohli"
   ]
  },
  {
   "cell_type": "code",
   "execution_count": null,
   "metadata": {
    "_cell_guid": "c85fbd7c-89ee-4713-bde1-357d39bccf5d",
    "_execution_state": "idle",
    "_uuid": "c8b9f51b5349d09339998053912a7569f736100a"
   },
   "outputs": [],
   "source": []
  },
  {
   "cell_type": "markdown",
   "metadata": {
    "_cell_guid": "9567d315-b6b7-c3b9-4cba-c1c7e8201351",
    "_uuid": "1282de842a052303e3763befa750fb2f51600d16"
   },
   "source": [
    "## Top Batsmen"
   ]
  },
  {
   "cell_type": "markdown",
   "metadata": {
    "_cell_guid": "de20aff6-d40a-00a0-44bf-23b56ebfb920",
    "_uuid": "d40ab620e1d672fce9d11af3dfdfb6fb5a7f2077"
   },
   "source": [
    "### Top 10 Batsman "
   ]
  },
  {
   "cell_type": "code",
   "execution_count": 34,
   "metadata": {
    "_cell_guid": "41c46fd8-d3da-4247-623b-13caa8a7ef90",
    "_execution_state": "idle",
    "_uuid": "dbf9812b2d6d230da580c1c6c8a29d736b1837e1"
   },
   "outputs": [
    {
     "data": {
      "image/png": "[encoded data removed]",
      "text/plain": [
       "<Figure size 720x432 with 1 Axes>"
      ]
     },
     "metadata": {
      "needs_background": "light"
     },
     "output_type": "display_data"
    }
   ],
   "source": [
    "mlt.subplots(figsize=(10,6))\n",
    "max_runs=delivery.groupby(['batsman'])['batsman_runs'].sum()\n",
    "ax=max_runs.sort_values(ascending=False)[:10].plot.bar(width=0.8,color=sns.color_palette('winter_r',20))\n",
    "for p in ax.patches:\n",
    "    ax.annotate(format(p.get_height()), (p.get_x()+0.1, p.get_height()+50),fontsize=15)\n",
    "mlt.show()"
   ]
  },
  {
   "cell_type": "markdown",
   "metadata": {
    "_cell_guid": "c887a385-d245-6991-36b2-75cd96b9e01d",
    "_uuid": "5b77bee2429b5607516ab9e14679fa3401b0b1f0"
   },
   "source": [
    "Virat Kohli has highest total runs across all seasons. Raina is just few runs behind with the second spot"
   ]
  },
  {
   "cell_type": "markdown",
   "metadata": {
    "_cell_guid": "effea8ee-67db-c55b-7997-a975eee0d721",
    "_uuid": "9d9c9efaa55415bd765dbf698fe425ba9d25c237"
   },
   "source": [
    "### Top Batsman's with 1's, 2's, 3's, 4's "
   ]
  },
  {
   "cell_type": "code",
   "execution_count": 35,
   "metadata": {
    "_cell_guid": "61791bc3-6d35-489d-cac6-476d6ee8d13e",
    "_execution_state": "idle",
    "_uuid": "b2aa5e9f87b835f142752ebdd084478077e2a1a3"
   },
   "outputs": [
    {
     "data": {
      "image/png": "[encoded data removed]",
      "text/plain": [
       "<Figure size 1296x864 with 4 Axes>"
      ]
     },
     "metadata": {
      "needs_background": "light"
     },
     "output_type": "display_data"
    }
   ],
   "source": [
    "toppers=delivery.groupby(['batsman','batsman_runs'])['total_runs'].count().reset_index()\n",
    "toppers=toppers.pivot('batsman','batsman_runs','total_runs')\n",
    "fig,ax=mlt.subplots(2,2,figsize=(18,12))\n",
    "toppers[1].sort_values(ascending=False)[:5].plot(kind='barh',ax=ax[0,0],color='#45ff45',width=0.8)\n",
    "ax[0,0].set_title(\"Most 1's\")\n",
    "ax[0,0].set_ylabel('')\n",
    "toppers[2].sort_values(ascending=False)[:5].plot(kind='barh',ax=ax[0,1],color='#df6dfd',width=0.8)\n",
    "ax[0,1].set_title(\"Most 2's\")\n",
    "ax[0,1].set_ylabel('')\n",
    "toppers[4].sort_values(ascending=False)[:5].plot(kind='barh',ax=ax[1,0],color='#fbca5f',width=0.8)\n",
    "ax[1,0].set_title(\"Most 4's\")\n",
    "ax[1,0].set_ylabel('')\n",
    "toppers[6].sort_values(ascending=False)[:5].plot(kind='barh',ax=ax[1,1],color='#ffff00',width=0.8)\n",
    "ax[1,1].set_title(\"Most 6's\")\n",
    "ax[1,1].set_ylabel('')\n",
    "mlt.show()"
   ]
  },
  {
   "cell_type": "markdown",
   "metadata": {
    "_cell_guid": "5d49b558-4764-1e14-c2f3-43753e7ba64e",
    "_uuid": "f7a16f399ea8eeb293679dbbb1074303390edd53"
   },
   "source": [
    "**Observations:**\n",
    "\n",
    " 1. Kohli has scored the maximum 1's\n",
    " 2. Dhoni has the maximum 2's . Those Strong Legs :p\n",
    " 3. Gambhir has the maximum 4's.\n",
    " 4. C Gayle has the maximum 6's  and he leads by a big margin."
   ]
  },
  {
   "cell_type": "markdown",
   "metadata": {
    "_cell_guid": "bb898766-b285-1b42-ca2d-e2f5c4b683f2",
    "_uuid": "6b88c74ba9c7ac665ffae55fbda9d2d7244fb81c"
   },
   "source": [
    "### Top Individual Scores"
   ]
  },
  {
   "cell_type": "code",
   "execution_count": 36,
   "metadata": {
    "_cell_guid": "8f4f0056-d659-f275-6781-897b56294f19",
    "_execution_state": "idle",
    "_uuid": "92c24ad418d905b7d8dcac97d8c69cb9f140e29d"
   },
   "outputs": [
    {
     "data": {
      "text/html": [
       "<div>\n",
       "<style scoped>\n",
       "    .dataframe tbody tr th:only-of-type {\n",
       "        vertical-align: middle;\n",
       "    }\n",
       "\n",
       "    .dataframe tbody tr th {\n",
       "        vertical-align: top;\n",
       "    }\n",
       "\n",
       "    .dataframe thead th {\n",
       "        text-align: right;\n",
       "    }\n",
       "</style>\n",
       "<table border=\"1\" class=\"dataframe\">\n",
       "  <thead>\n",
       "    <tr style=\"text-align: right;\">\n",
       "      <th></th>\n",
       "      <th>match_id</th>\n",
       "      <th>batsman</th>\n",
       "      <th>batting_team</th>\n",
       "      <th>batsman_runs</th>\n",
       "    </tr>\n",
       "  </thead>\n",
       "  <tbody>\n",
       "    <tr>\n",
       "      <td>6200</td>\n",
       "      <td>411</td>\n",
       "      <td>CH Gayle</td>\n",
       "      <td>RCB</td>\n",
       "      <td>175</td>\n",
       "    </tr>\n",
       "    <tr>\n",
       "      <td>900</td>\n",
       "      <td>60</td>\n",
       "      <td>BB McCullum</td>\n",
       "      <td>KKR</td>\n",
       "      <td>158</td>\n",
       "    </tr>\n",
       "    <tr>\n",
       "      <td>8426</td>\n",
       "      <td>562</td>\n",
       "      <td>AB de Villiers</td>\n",
       "      <td>RCB</td>\n",
       "      <td>133</td>\n",
       "    </tr>\n",
       "    <tr>\n",
       "      <td>10149</td>\n",
       "      <td>7935</td>\n",
       "      <td>RR Pant</td>\n",
       "      <td>DD</td>\n",
       "      <td>130</td>\n",
       "    </tr>\n",
       "    <tr>\n",
       "      <td>9257</td>\n",
       "      <td>620</td>\n",
       "      <td>AB de Villiers</td>\n",
       "      <td>RCB</td>\n",
       "      <td>129</td>\n",
       "    </tr>\n",
       "    <tr>\n",
       "      <td>5585</td>\n",
       "      <td>372</td>\n",
       "      <td>CH Gayle</td>\n",
       "      <td>RCB</td>\n",
       "      <td>128</td>\n",
       "    </tr>\n",
       "    <tr>\n",
       "      <td>3135</td>\n",
       "      <td>206</td>\n",
       "      <td>M Vijay</td>\n",
       "      <td>CSK</td>\n",
       "      <td>127</td>\n",
       "    </tr>\n",
       "    <tr>\n",
       "      <td>529</td>\n",
       "      <td>36</td>\n",
       "      <td>DA Warner</td>\n",
       "      <td>SRH</td>\n",
       "      <td>126</td>\n",
       "    </tr>\n",
       "    <tr>\n",
       "      <td>7752</td>\n",
       "      <td>516</td>\n",
       "      <td>V Sehwag</td>\n",
       "      <td>KXIP</td>\n",
       "      <td>122</td>\n",
       "    </tr>\n",
       "    <tr>\n",
       "      <td>10417</td>\n",
       "      <td>7953</td>\n",
       "      <td>SR Watson</td>\n",
       "      <td>CSK</td>\n",
       "      <td>121</td>\n",
       "    </tr>\n",
       "  </tbody>\n",
       "</table>\n",
       "</div>"
      ],
      "text/plain": [
       "       match_id         batsman batting_team  batsman_runs\n",
       "6200        411        CH Gayle          RCB           175\n",
       "900          60     BB McCullum          KKR           158\n",
       "8426        562  AB de Villiers          RCB           133\n",
       "10149      7935         RR Pant           DD           130\n",
       "9257        620  AB de Villiers          RCB           129\n",
       "5585        372        CH Gayle          RCB           128\n",
       "3135        206         M Vijay          CSK           127\n",
       "529          36       DA Warner          SRH           126\n",
       "7752        516        V Sehwag         KXIP           122\n",
       "10417      7953       SR Watson          CSK           121"
      ]
     },
     "execution_count": 36,
     "metadata": {},
     "output_type": "execute_result"
    }
   ],
   "source": [
    "top_scores = delivery.groupby([\"match_id\", \"batsman\",\"batting_team\"])[\"batsman_runs\"].sum().reset_index()\n",
    "#top_scores=top_scores[top_scores['batsman_runs']>100]\n",
    "top_scores.sort_values('batsman_runs', ascending=0).head(10)\n",
    "top_scores.nlargest(10,'batsman_runs')"
   ]
  },
  {
   "cell_type": "markdown",
   "metadata": {
    "_cell_guid": "5f872e2a-2f81-f64f-ec35-e3e6ea35d453",
    "_uuid": "5996a530f60020be7f1313156beb83e38eaba980"
   },
   "source": [
    "Here too the Jamaican leads the table. Not only Gayle but there are many RCB players on the top scores list. Looks like RCB is a very formidable batting side."
   ]
  },
  {
   "cell_type": "markdown",
   "metadata": {
    "_cell_guid": "f52ca69a-8fa9-4fb2-0cea-bc74582e69bd",
    "_uuid": "d8e8dc654d751d6c873e5cc96442232d0d6a0ee5"
   },
   "source": [
    "### Individual Scores By Top Batsman each Inning"
   ]
  },
  {
   "cell_type": "code",
   "execution_count": null,
   "metadata": {
    "_cell_guid": "e383ba38-3a37-403b-877a-2cd7aef59454",
    "_execution_state": "idle",
    "_uuid": "e347ca55b0887d2b0f57a062cdc9098f54abcb19"
   },
   "outputs": [],
   "source": []
  },
  {
   "cell_type": "markdown",
   "metadata": {
    "_cell_guid": "17139ab6-0c58-19a5-8c44-70c4a9f75c01",
    "_uuid": "3f9e43bdd178c9b191577d4188254dcad560a9ba"
   },
   "source": [
    "**Observations:**\n",
    "\n",
    " 1. **Chris Gayle** has the highest Individual Score of **175** and Highest Number of Centuries i.e **5**\n",
    " 2. **MS Dhoni** and **Gautam Gambhir** have never scored a Century.\n",
    " 3. **V Kohli** has played only for 1 IPL Team in all seasons i.e RCB"
   ]
  },
  {
   "cell_type": "markdown",
   "metadata": {
    "_cell_guid": "b617f954-5d22-3796-baa2-6da65bd78c3d",
    "_uuid": "a0a981cc0d173c982ead119c953fc22f7363b785"
   },
   "source": [
    "### Runs Scored By Batsman Across Seasons"
   ]
  },
  {
   "cell_type": "code",
   "execution_count": null,
   "metadata": {
    "_cell_guid": "8465d850-dbc4-82ed-72a6-0e3ba26fea82",
    "_execution_state": "idle",
    "_uuid": "335b1a77515a753ed2d89d8b67fe23e628331d87"
   },
   "outputs": [],
   "source": []
  },
  {
   "cell_type": "markdown",
   "metadata": {
    "_cell_guid": "e19a631d-0515-9a17-307b-4733205fe838",
    "_uuid": "8d0474acdb17c80b49d53fe67da03bbc7fb7ffc3"
   },
   "source": [
    "David Warner's form looks to be improving season by season. There has been a sharp decline in Kohli's Runs in the last season."
   ]
  },
  {
   "cell_type": "markdown",
   "metadata": {
    "_cell_guid": "7f670a67-4a7f-b284-a742-2e4bb9187f0b",
    "_uuid": "29c0dca906c7dab0716a46ac33911b355bbf0373"
   },
   "source": [
    "### How do the top batsmen score? (INTERACTIVE)"
   ]
  },
  {
   "cell_type": "code",
   "execution_count": null,
   "metadata": {
    "_cell_guid": "2f3edcfb-746f-62d5-9b73-47f2d0b67a83",
    "_execution_state": "idle",
    "_uuid": "1fe56e6bcaa87cb381150a5db2a83c54138726ae"
   },
   "outputs": [],
   "source": []
  },
  {
   "cell_type": "markdown",
   "metadata": {
    "_cell_guid": "f3961d85-6b47-e477-31c7-b9aeb10473e1",
    "_uuid": "4fb68cce11a32e7222aae23ff3852ed2254bb600"
   },
   "source": [
    "### Frequency of Scores "
   ]
  },
  {
   "cell_type": "code",
   "execution_count": null,
   "metadata": {
    "_cell_guid": "7b0863e2-4fdb-7c9a-395b-171da14664e5",
    "_execution_state": "idle",
    "_uuid": "52d09987dc8d54f2d5daf8a18c9947e1cdfb3de0"
   },
   "outputs": [],
   "source": []
  },
  {
   "cell_type": "markdown",
   "metadata": {
    "_cell_guid": "bedfafcb-b77c-fd80-ffc2-6d662a297c55",
    "_uuid": "fe415bd4412d0f6030f2023d6fd3f78a5b820489"
   },
   "source": [
    "The average score for a batsman is around 19-20. Also the number of single digit score is quite high and the number of centuries is low."
   ]
  },
  {
   "cell_type": "markdown",
   "metadata": {
    "_cell_guid": "c4a43d9b-7a0d-a148-c161-da0485a3ac84",
    "_uuid": "cb2586ec8352473e14f7935ba9c68d7b02098583"
   },
   "source": [
    "### Orange Caps Each Season(Highest Run Getter per Season) (INTERACTIVE)"
   ]
  },
  {
   "cell_type": "code",
   "execution_count": null,
   "metadata": {
    "_cell_guid": "f819528b-f755-6fc8-6a5a-ee919a0939f0",
    "_execution_state": "idle",
    "_uuid": "36cf52dec6a2dbe9961b3cc8dbe5236c16c48671"
   },
   "outputs": [],
   "source": []
  },
  {
   "cell_type": "markdown",
   "metadata": {
    "_cell_guid": "4571ac5a-3969-ac15-0718-d39cd003286c",
    "_uuid": "aaf94a4d0ed16756ff5420ea3a895311b4a1c8d6"
   },
   "source": [
    "## Top Bowlers"
   ]
  },
  {
   "cell_type": "markdown",
   "metadata": {
    "_cell_guid": "cb75aae1-089b-9a99-31fa-a532fa43f8ac",
    "_uuid": "b8f12809544b93cdeb1126af08de0158e7ab164f"
   },
   "source": [
    "### Highest Wicket Taker"
   ]
  },
  {
   "cell_type": "code",
   "execution_count": 37,
   "metadata": {
    "_cell_guid": "89dcb48d-a488-2079-9a10-c3138ae0ee66",
    "_execution_state": "idle",
    "_uuid": "eaa4c4dcdd4cacf23ee9940c814f5c68458cf154"
   },
   "outputs": [
    {
     "data": {
      "image/png": "[encoded data removed]",
      "text/plain": [
       "<Figure size 720x432 with 1 Axes>"
      ]
     },
     "metadata": {
      "needs_background": "light"
     },
     "output_type": "display_data"
    }
   ],
   "source": [
    "mlt.subplots(figsize=(10,6))\n",
    "dismissal_kinds = [\"bowled\", \"caught\", \"lbw\", \"stumped\", \"caught and bowled\", \"hit wicket\"]  #since run-out is not creditted to the bowler\n",
    "ct=delivery[delivery[\"dismissal_kind\"].isin(dismissal_kinds)]\n",
    "ax=ct['bowler'].value_counts()[:10].plot.bar(width=0.8,color=sns.color_palette('summer_r',20))\n",
    "for p in ax.patches:\n",
    "    ax.annotate(format(p.get_height()), (p.get_x()+0.10, p.get_height()),fontsize=15)\n",
    "mlt.show()"
   ]
  },
  {
   "cell_type": "markdown",
   "metadata": {
    "_cell_guid": "f6b06a4c-acfa-5aa2-99a5-0fac26361484",
    "_uuid": "a171163a973bca2b5fffbb4e5c3c8ab5cb051d8e"
   },
   "source": [
    "Lasith Malinga leads the chart, thanks to his unpredictable bowling action. Other bowlers have a very small wicket margin between them. "
   ]
  },
  {
   "cell_type": "markdown",
   "metadata": {
    "_cell_guid": "e41f8cfa-5da6-fdc8-be16-94c16601a6d3",
    "_uuid": "8566a95bb9ec7cdee60ad6ae80a61ae65bdd877c"
   },
   "source": []
  },
  {
   "cell_type": "code",
   "execution_count": null,
   "metadata": {
    "_cell_guid": "e06193b3-6423-5bca-deba-a8fecc370448",
    "_execution_state": "idle",
    "_uuid": "8dfde7edba29d4fc0885293f9a4d82d749ce2060"
   },
   "outputs": [],
   "source": []
  },
  {
   "cell_type": "markdown",
   "metadata": {
    "_cell_guid": "1d637d1e-1934-416f-a0f3-8fa93b5a7a7e",
    "_execution_state": "idle",
    "_uuid": "daecb966633bb9986d8782b8afb256897e33e77b"
   },
   "source": []
  },
  {
   "cell_type": "code",
   "execution_count": null,
   "metadata": {
    "_cell_guid": "45f23bf5-3587-4d59-921f-e714d716819d",
    "_execution_state": "idle",
    "_uuid": "fa77c3dfb1323b3e1a8cd4beaa1eecd9febba7f0"
   },
   "outputs": [],
   "source": []
  },
  {
   "cell_type": "markdown",
   "metadata": {
    "_cell_guid": "681a6e82-827b-d2db-c278-c567b63b6eb5",
    "_uuid": "8b8222494483775eac6c183e4de881d415e1d574"
   },
   "source": []
  },
  {
   "cell_type": "code",
   "execution_count": null,
   "metadata": {
    "_uuid": "880696493372958cb83deb29748b5462d9b79cbe"
   },
   "outputs": [],
   "source": []
  },
  {
   "cell_type": "code",
   "execution_count": null,
   "metadata": {
    "_cell_guid": "5a00b9ee-0f1c-414a-8aaa-092b60ffb31a",
    "_execution_state": "idle",
    "_uuid": "c423a1d0ed92f8129e400bdc9f29be8aa0e13e6c"
   },
   "outputs": [],
   "source": []
  },
  {
   "cell_type": "markdown",
   "metadata": {
    "_uuid": "34a1a38def79dee506727a0e85531583613a9924"
   },
   "source": []
  },
  {
   "cell_type": "code",
   "execution_count": null,
   "metadata": {
    "_kg_hide-input": true,
    "_uuid": "2ea0b5390f4d92f8b9a681cb23f9b6233d44e180"
   },
   "outputs": [],
   "source": []
  },
  {
   "cell_type": "markdown",
   "metadata": {
    "_cell_guid": "448de1d9-22ad-aa77-a4c6-92c2a479b755",
    "_uuid": "3536f294a6b4ea28ae26606087e0fdfe3bde5834"
   },
   "source": []
  },
  {
   "cell_type": "code",
   "execution_count": null,
   "metadata": {
    "_cell_guid": "5a565da1-7258-f880-7a56-1db1d25903a1",
    "_execution_state": "idle",
    "_uuid": "fd4bb2f0889aa4bc4d461ab80bd086fe626a924a"
   },
   "outputs": [],
   "source": []
  },
  {
   "cell_type": "markdown",
   "metadata": {
    "_cell_guid": "54ee678e-f853-0029-e45f-d1ebc52fa9ee",
    "_uuid": "a403ef5554240ac67b132fa5d31ade2f4191f088"
   },
   "source": []
  },
  {
   "cell_type": "markdown",
   "metadata": {
    "_cell_guid": "3ca253eb-6f1e-56f9-f3c4-b789c9734303",
    "_uuid": "38effb63fc400948f9ccb16ddcc68873c0b39de4"
   },
   "source": []
  },
  {
   "cell_type": "code",
   "execution_count": null,
   "metadata": {
    "_cell_guid": "6fd979fd-025e-1735-43e1-de422710a0e6",
    "_execution_state": "idle",
    "_uuid": "c34475e32c9685bf987db4c29cec2ac46be4cd26"
   },
   "outputs": [],
   "source": []
  },
  {
   "cell_type": "markdown",
   "metadata": {
    "_cell_guid": "6c16461b-4d8b-d500-2619-99a79977d383",
    "_uuid": "d2bf97b11d0002104aed477ac94eb512ba94feb0"
   },
   "source": []
  },
  {
   "cell_type": "code",
   "execution_count": null,
   "metadata": {},
   "outputs": [],
   "source": []
  },
  {
   "cell_type": "code",
   "execution_count": null,
   "metadata": {},
   "outputs": [],
   "source": []
  },
  {
   "cell_type": "code",
   "execution_count": null,
   "metadata": {
    "_cell_guid": "9f6460cc-cfd1-4551-870c-f0a0c86c9089",
    "_execution_state": "idle",
    "_uuid": "17c96727816dc6084f814884297871e95595e22a"
   },
   "outputs": [],
   "source": []
  },
  {
   "cell_type": "markdown",
   "metadata": {
    "_cell_guid": "96e5af95-a0d5-be31-22ff-4470de1ac239",
    "_uuid": "04bd0535841323162a1e81d7e6eafb28550d8056"
   },
   "source": []
  },
  {
   "cell_type": "code",
   "execution_count": null,
   "metadata": {
    "_cell_guid": "e3215927-50e8-bcb9-0ec3-3596f0adaa08",
    "_execution_state": "idle",
    "_uuid": "e483ac1ff8ed0c85e427339d0afab5f7cb20fd0d"
   },
   "outputs": [],
   "source": []
  },
  {
   "cell_type": "markdown",
   "metadata": {
    "_cell_guid": "d818dd44-ad6f-71f3-5653-932a2d9c892e",
    "_uuid": "b2c2f9718e38f28a20961130e0b91a603acf123a"
   },
   "source": []
  },
  {
   "cell_type": "markdown",
   "metadata": {
    "_cell_guid": "d3482326-8d1b-6ea0-ed51-af12218a2d1b",
    "_uuid": "2efcc3832ea7f1890a7c77b875fc95676118b2e1"
   },
   "source": []
  },
  {
   "cell_type": "code",
   "execution_count": null,
   "metadata": {
    "_cell_guid": "36fa7fb1-a759-6ab0-ed64-26553b77d2a5",
    "_execution_state": "idle",
    "_uuid": "1ffe24d5932f2b15ec4e15510cbced94c39ab175"
   },
   "outputs": [],
   "source": []
  },
  {
   "cell_type": "code",
   "execution_count": null,
   "metadata": {
    "_cell_guid": "cea717a7-846c-b510-bebd-d3c7ee076531",
    "_uuid": "8281c2d5cf15f06f51edd252b84388bf4c13553a"
   },
   "outputs": [],
   "source": []
  },
  {
   "cell_type": "code",
   "execution_count": null,
   "metadata": {
    "_cell_guid": "5282c573-9e53-0777-1856-823712e8c467",
    "_uuid": "35133aeb04ec265cfa763f7e7b90726871af6808"
   },
   "outputs": [],
   "source": []
  },
  {
   "cell_type": "code",
   "execution_count": null,
   "metadata": {
    "_cell_guid": "c3c8bd8f-c8e4-daff-7bed-b49d6e21d367",
    "_execution_state": "idle",
    "_uuid": "6da2e36eacd02065c335d10438a1b54c2a3ababe"
   },
   "outputs": [],
   "source": []
  },
  {
   "cell_type": "code",
   "execution_count": null,
   "metadata": {
    "_cell_guid": "bedfb0aa-5dcb-cf77-297c-4cff2a9ea185",
    "_uuid": "1b2b6360527bfa3efc5b1b1d73a50aa379843bd7"
   },
   "outputs": [],
   "source": []
  },
  {
   "cell_type": "code",
   "execution_count": null,
   "metadata": {
    "_cell_guid": "c8beb3a1-aa5c-9ee9-3894-0a5c7b4df6be",
    "_uuid": "ecf2dc03c02e63b2d81cf5eec9e2a116e3d2d682"
   },
   "outputs": [],
   "source": []
  },
  {
   "cell_type": "code",
   "execution_count": null,
   "metadata": {
    "_cell_guid": "ed6e570a-6681-fbf5-2631-d7acab033ad3",
    "_execution_state": "idle",
    "_uuid": "98e905afcc3733514943980e7245455473a8a29f"
   },
   "outputs": [],
   "source": []
  },
  {
   "cell_type": "code",
   "execution_count": null,
   "metadata": {
    "_cell_guid": "daf970dd-6eba-e4eb-f20f-fcbbb3dea95e",
    "_uuid": "84514bf2c9157f41193da11376e61d48fbae3854"
   },
   "outputs": [],
   "source": []
  },
  {
   "cell_type": "code",
   "execution_count": null,
   "metadata": {
    "_cell_guid": "c7fb09d5-c97f-0624-9f43-9ce771b465ad",
    "_uuid": "045dbab66dda861a52f0a6cd422f829f1d074605"
   },
   "outputs": [],
   "source": []
  },
  {
   "cell_type": "code",
   "execution_count": null,
   "metadata": {
    "_cell_guid": "72108c5a-09b7-7699-58f1-ac9207fde00b",
    "_execution_state": "idle",
    "_uuid": "407f467305fc358ec7544f81a11737848039ac20",
    "collapsed": true
   },
   "outputs": [],
   "source": []
  },
  {
   "cell_type": "code",
   "execution_count": null,
   "metadata": {
    "_cell_guid": "62709234-db82-cf38-afec-83965fc1d9fa",
    "_execution_state": "idle",
    "_uuid": "f5ea5a8ec8bef7f724e1e5bba1f39b357d354494",
    "collapsed": true
   },
   "outputs": [],
   "source": []
  }
 ],
 "metadata": {
  "_change_revision": 0,
  "_is_fork": false,
  "kernelspec": {
   "display_name": "Python 3",
   "language": "python",
   "name": "python3"
  },
  "language_info": {
   "codemirror_mode": {
    "name": "ipython",
    "version": 3
   },
   "file_extension": ".py",
   "mimetype": "text/x-python",
   "name": "python",
   "nbconvert_exporter": "python",
   "pygments_lexer": "ipython3",
   "version": "3.7.0"
  }
 },
 "nbformat": 4,
 "nbformat_minor": 1
}
